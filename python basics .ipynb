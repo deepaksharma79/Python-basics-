{
 "cells": [
  {
   "cell_type": "code",
   "execution_count": 3,
   "id": "9b7c1d4a-bc11-4c65-b0ae-0e52e09028f5",
   "metadata": {},
   "outputs": [
    {
     "name": "stdout",
     "output_type": "stream",
     "text": [
      "deepak\n",
      "Sharma\n"
     ]
    }
   ],
   "source": [
    "\n",
    "name='deepak'\n",
    "Name='Sharma'\n",
    "print(name)\n",
    "print(Name)"
   ]
  },
  {
   "cell_type": "code",
   "execution_count": 5,
   "id": "b0d0a3f5-3042-453b-bb32-5be0b19006e0",
   "metadata": {},
   "outputs": [
    {
     "name": "stdout",
     "output_type": "stream",
     "text": [
      "7\n"
     ]
    }
   ],
   "source": [
    "x = 5\n",
    "y = 2\n",
    "print(x+y)"
   ]
  },
  {
   "cell_type": "code",
   "execution_count": 7,
   "id": "d9cae809-c8f2-4f00-a523-6751235c024a",
   "metadata": {},
   "outputs": [
    {
     "name": "stdout",
     "output_type": "stream",
     "text": [
      "45\n",
      "age is 45\n"
     ]
    }
   ],
   "source": [
    "## Identation\n",
    "\n",
    "age = 45\n",
    "if age > 30:\n",
    "    print(age)\n",
    "    print(\"age is\",age)"
   ]
  },
  {
   "cell_type": "code",
   "execution_count": 9,
   "id": "56c8cf2e-4c59-48b5-8801-54e863255293",
   "metadata": {},
   "outputs": [
    {
     "name": "stdout",
     "output_type": "stream",
     "text": [
      "hello world\n"
     ]
    }
   ],
   "source": [
    "print(\"hello world\")"
   ]
  },
  {
   "cell_type": "code",
   "execution_count": 11,
   "id": "23230531-536b-4096-931f-f5a834b973fe",
   "metadata": {},
   "outputs": [
    {
     "name": "stdout",
     "output_type": "stream",
     "text": [
      "my naame is 45 years\n"
     ]
    }
   ],
   "source": [
    "print(f\"my naame is {age} years\")"
   ]
  },
  {
   "cell_type": "code",
   "execution_count": 15,
   "id": "6386ee16-051a-4bab-872f-936389a42d2a",
   "metadata": {},
   "outputs": [
    {
     "name": "stdout",
     "output_type": "stream",
     "text": [
      "36\n"
     ]
    }
   ],
   "source": [
    "##lines continaution\n",
    "total = 1 + 2 + 3 + 4 + 5 + 6 + \\\n",
    "4+5+6\n",
    "print(total)"
   ]
  },
  {
   "cell_type": "code",
   "execution_count": 17,
   "id": "69bb52a9-2bb3-4a4e-a408-414c9bd3a91e",
   "metadata": {},
   "outputs": [
    {
     "name": "stdout",
     "output_type": "stream",
     "text": [
      "15\n"
     ]
    }
   ],
   "source": [
    "# multiple statement on single line\n",
    "x = 5; y = 10; z = x + y\n",
    "print(z)"
   ]
  },
  {
   "cell_type": "code",
   "execution_count": 1,
   "id": "6004342c-e455-40a6-9d62-aa5743f61c31",
   "metadata": {},
   "outputs": [
    {
     "name": "stdout",
     "output_type": "stream",
     "text": [
      "<class 'float'>\n",
      "<class 'str'>\n"
     ]
    }
   ],
   "source": [
    "age = 35.6\n",
    "name = \"deepak\"\n",
    "print(type(age))\n",
    "print(type(name))"
   ]
  },
  {
   "cell_type": "code",
   "execution_count": 3,
   "id": "f1227813-cc8a-4acf-9b3e-c63ca491e8c9",
   "metadata": {},
   "outputs": [],
   "source": [
    "#2nd sheet defining variable"
   ]
  },
  {
   "cell_type": "code",
   "execution_count": 13,
   "id": "e1ba2165-faef-44b9-a019-408a9d03ba69",
   "metadata": {},
   "outputs": [
    {
     "name": "stdout",
     "output_type": "stream",
     "text": [
      "<class 'int'>\n",
      "<class 'str'>\n"
     ]
    }
   ],
   "source": [
    "#veriable inference\n",
    "variable = 10\n",
    "print(type(variable))\n",
    "variable = \"deepak\"\n",
    "print(type(variable))\n"
   ]
  },
  {
   "cell_type": "code",
   "execution_count": 17,
   "id": "6a6c6381-59e4-427e-8e65-76f0c6e3cc98",
   "metadata": {},
   "outputs": [],
   "source": [
    "a = 10"
   ]
  },
  {
   "cell_type": "code",
   "execution_count": 19,
   "id": "57a978a7-38ea-4e51-b92d-d7e3860eeb67",
   "metadata": {},
   "outputs": [
    {
     "ename": "NameError",
     "evalue": "name 'b' is not defined",
     "output_type": "error",
     "traceback": [
      "\u001b[1;31m---------------------------------------------------------------------------\u001b[0m",
      "\u001b[1;31mNameError\u001b[0m                                 Traceback (most recent call last)",
      "Cell \u001b[1;32mIn[19], line 2\u001b[0m\n\u001b[0;32m      1\u001b[0m \u001b[38;5;66;03m## name error\u001b[39;00m\n\u001b[1;32m----> 2\u001b[0m a\u001b[38;5;241m=\u001b[39mb\n",
      "\u001b[1;31mNameError\u001b[0m: name 'b' is not defined"
     ]
    }
   ],
   "source": [
    "## name error\n",
    "a=b"
   ]
  },
  {
   "cell_type": "markdown",
   "id": "2e37e49c-4d45-4c02-9211-fd175f987e0b",
   "metadata": {},
   "source": []
  },
  {
   "cell_type": "markdown",
   "id": "44a409af-aef0-49e3-985e-8e1a75dfb8a5",
   "metadata": {},
   "source": []
  },
  {
   "cell_type": "markdown",
   "id": "b510aa1e-2731-41b4-ba50-8856f38fb8f5",
   "metadata": {},
   "source": [
    "# Variables"
   ]
  },
  {
   "cell_type": "code",
   "execution_count": 24,
   "id": "97592ce3-9de8-46bb-b4d8-f0cdc2c5773b",
   "metadata": {},
   "outputs": [],
   "source": [
    "a = 100"
   ]
  },
  {
   "cell_type": "code",
   "execution_count": 34,
   "id": "7fb48599-2ce2-4b38-aab2-cfe004a7b533",
   "metadata": {},
   "outputs": [
    {
     "name": "stdout",
     "output_type": "stream",
     "text": [
      "age : 26\n"
     ]
    }
   ],
   "source": [
    "## declaration and assigning variables\n",
    "\n",
    "age = 26; height = 6.1; name = \"sunny\";is_student = True\n",
    "\n",
    "## printing the varible\n",
    "\n",
    "print(\"age :\",age)"
   ]
  },
  {
   "cell_type": "code",
   "execution_count": 38,
   "id": "7a0c50c0-774e-4ee8-9c40-07deee713667",
   "metadata": {},
   "outputs": [],
   "source": [
    "first_name = \"Deepak\"\n",
    "last_name = \"Sharma\""
   ]
  },
  {
   "cell_type": "code",
   "execution_count": null,
   "id": "2a3337cb-1a7e-4e36-b156-aaae9757a1fc",
   "metadata": {},
   "outputs": [],
   "source": []
  },
  {
   "cell_type": "markdown",
   "id": "c8919711-fa1d-47f9-8700-c29b421f3356",
   "metadata": {},
   "source": [
    "# variable types"
   ]
  },
  {
   "cell_type": "code",
   "execution_count": 46,
   "id": "6dbcbe64-d0b1-4945-b76c-286c94993b48",
   "metadata": {},
   "outputs": [
    {
     "name": "stdout",
     "output_type": "stream",
     "text": [
      "<class 'float'>\n",
      "<class 'str'>\n"
     ]
    }
   ],
   "source": [
    "age = 23 #int\n",
    "height = 6.4 #float\n",
    "name = \"Deepak\" #str\n",
    "is_student = True #bppl\n",
    "\n",
    "print(type(height))\n",
    "print(type(name))\n"
   ]
  },
  {
   "cell_type": "code",
   "execution_count": 48,
   "id": "2c4dc616-70b5-42c7-b95c-3e3b0028bac0",
   "metadata": {},
   "outputs": [
    {
     "data": {
      "text/plain": [
       "float"
      ]
     },
     "execution_count": 48,
     "metadata": {},
     "output_type": "execute_result"
    }
   ],
   "source": [
    "type(height)"
   ]
  },
  {
   "cell_type": "code",
   "execution_count": null,
   "id": "c7966ee0-85c9-40d2-b7ec-8a356ff74736",
   "metadata": {},
   "outputs": [],
   "source": [
    "\n"
   ]
  },
  {
   "cell_type": "markdown",
   "id": "7267e904-221a-42f1-b064-a447cd233537",
   "metadata": {},
   "source": [
    "## Type conversion"
   ]
  },
  {
   "cell_type": "code",
   "execution_count": 56,
   "id": "9074161b-78e5-43e4-a256-24df15a75a76",
   "metadata": {},
   "outputs": [
    {
     "name": "stdout",
     "output_type": "stream",
     "text": [
      "<class 'int'>\n",
      "<class 'str'>\n"
     ]
    }
   ],
   "source": [
    "age = 25\n",
    "print(type(age))\n",
    "\n",
    "#type conversion\n",
    "age_str = str(age)\n",
    "print(type(age_str))"
   ]
  },
  {
   "cell_type": "code",
   "execution_count": 60,
   "id": "b16ccdcb-a1d6-4eb5-86d3-1170db2566c3",
   "metadata": {},
   "outputs": [
    {
     "name": "stdout",
     "output_type": "stream",
     "text": [
      "<class 'int'>\n"
     ]
    }
   ],
   "source": [
    "age = '25'\n",
    "print(type(int(age)))"
   ]
  },
  {
   "cell_type": "code",
   "execution_count": 62,
   "id": "c9af8432-e28b-4085-8d8d-6ff40d008f9b",
   "metadata": {},
   "outputs": [
    {
     "ename": "ValueError",
     "evalue": "invalid literal for int() with base 10: 'Deepak'",
     "output_type": "error",
     "traceback": [
      "\u001b[1;31m---------------------------------------------------------------------------\u001b[0m",
      "\u001b[1;31mValueError\u001b[0m                                Traceback (most recent call last)",
      "Cell \u001b[1;32mIn[62], line 2\u001b[0m\n\u001b[0;32m      1\u001b[0m name \u001b[38;5;241m=\u001b[39m \u001b[38;5;124m\"\u001b[39m\u001b[38;5;124mDeepak\u001b[39m\u001b[38;5;124m\"\u001b[39m\n\u001b[1;32m----> 2\u001b[0m \u001b[38;5;28mint\u001b[39m(name)\n",
      "\u001b[1;31mValueError\u001b[0m: invalid literal for int() with base 10: 'Deepak'"
     ]
    }
   ],
   "source": [
    "name = \"Deepak\"\n",
    "int(name)"
   ]
  },
  {
   "cell_type": "code",
   "execution_count": 64,
   "id": "caa0093b-bb55-4368-bc36-82fc0173c390",
   "metadata": {},
   "outputs": [
    {
     "data": {
      "text/plain": [
       "float"
      ]
     },
     "execution_count": 64,
     "metadata": {},
     "output_type": "execute_result"
    }
   ],
   "source": [
    "height = 5.11\n",
    "type(height)"
   ]
  },
  {
   "cell_type": "code",
   "execution_count": null,
   "id": "97a3a7bd-4b1c-482e-9da2-430e1cf83edc",
   "metadata": {},
   "outputs": [],
   "source": [
    "int(height)"
   ]
  },
  {
   "cell_type": "code",
   "execution_count": 66,
   "id": "6fde584d-6203-4280-91cf-db4ced938406",
   "metadata": {},
   "outputs": [
    {
     "data": {
      "text/plain": [
       "5.0"
      ]
     },
     "execution_count": 66,
     "metadata": {},
     "output_type": "execute_result"
    }
   ],
   "source": [
    "float(int(height))"
   ]
  },
  {
   "cell_type": "code",
   "execution_count": 70,
   "id": "1430c500-c377-4d7a-96ae-f8492c450fbf",
   "metadata": {},
   "outputs": [
    {
     "name": "stdout",
     "output_type": "stream",
     "text": [
      "10 <class 'int'>\n",
      "hello <class 'str'>\n",
      "475.5 <class 'float'>\n"
     ]
    }
   ],
   "source": [
    "#dynamic typing\n",
    "var = 10 #int\n",
    "print(var, type(var))\n",
    "\n",
    "var = \"hello\"\n",
    "print(var, type(var))\n",
    "\n",
    "var = 475.5\n",
    "print(var, type(var))"
   ]
  },
  {
   "cell_type": "markdown",
   "id": "82adaaa3-008d-4fb5-862b-99b908593e84",
   "metadata": {},
   "source": [
    "\n",
    "### Taking input from user\n",
    "\n"
   ]
  },
  {
   "cell_type": "code",
   "execution_count": 404,
   "id": "83ed3cc4-958f-4898-be46-2ad98ad48552",
   "metadata": {},
   "outputs": [
    {
     "name": "stdin",
     "output_type": "stream",
     "text": [
      "what is your name? deepak\n"
     ]
    }
   ],
   "source": [
    "name = input(\"what is your name?\")\n"
   ]
  },
  {
   "cell_type": "code",
   "execution_count": 73,
   "id": "1050e7e3-c000-434a-b1be-8436f09bb90c",
   "metadata": {},
   "outputs": [
    {
     "name": "stdout",
     "output_type": "stream",
     "text": [
      "your name is Deepak\n"
     ]
    }
   ],
   "source": [
    "print(\"your name is\",name)"
   ]
  },
  {
   "cell_type": "code",
   "execution_count": 77,
   "id": "895df6c6-9c6e-4244-852f-a0132a3c7606",
   "metadata": {},
   "outputs": [
    {
     "name": "stdin",
     "output_type": "stream",
     "text": [
      "what is the age 23\n"
     ]
    },
    {
     "name": "stdout",
     "output_type": "stream",
     "text": [
      "23 <class 'int'>\n"
     ]
    }
   ],
   "source": [
    "#reading number as input from user\n",
    "age = int(input(\"what is the age\"))\n",
    "print(age, type(age))"
   ]
  },
  {
   "cell_type": "code",
   "execution_count": null,
   "id": "6fb82065-1783-4045-8e9d-0a87104cbdf3",
   "metadata": {},
   "outputs": [],
   "source": []
  },
  {
   "cell_type": "code",
   "execution_count": 83,
   "id": "2d72fbeb-ea1c-44c9-b4a7-e29bc631951e",
   "metadata": {},
   "outputs": [
    {
     "name": "stdin",
     "output_type": "stream",
     "text": [
      "Enter first number: 2\n",
      "Enter second number: 45\n"
     ]
    },
    {
     "name": "stdout",
     "output_type": "stream",
     "text": [
      "Sum: 47.0\n",
      "Difference: -43.0\n",
      "Product: 90.0\n",
      "Quotient: 0.044444444444444446\n"
     ]
    }
   ],
   "source": [
    "### Simple calculator\n",
    "num1 = float(input(\"Enter first number:\"))\n",
    "num2 = float(input(\"Enter second number:\"))\n",
    "\n",
    "sum = num1 + num2\n",
    "difference = num1 - num2\n",
    "product = num1 * num2\n",
    "quotient = num1 / num2\n",
    "print(\"Sum:\", sum)\n",
    "print(\"Difference:\", difference)\n",
    "print(\"Product:\",product)\n",
    "print(\"Quotient:\",quotient)"
   ]
  },
  {
   "cell_type": "markdown",
   "id": "f2f00d60-98e6-4662-b9c0-6aef1489bb67",
   "metadata": {},
   "source": [
    "# Data types"
   ]
  },
  {
   "cell_type": "code",
   "execution_count": 4,
   "id": "84b5b341-b6ac-454f-8f27-725003929478",
   "metadata": {},
   "outputs": [
    {
     "data": {
      "text/plain": [
       "int"
      ]
     },
     "execution_count": 4,
     "metadata": {},
     "output_type": "execute_result"
    }
   ],
   "source": [
    "## integer example\n",
    "age = 35\n",
    "type(age)"
   ]
  },
  {
   "cell_type": "code",
   "execution_count": 8,
   "id": "78f12f5c-9d34-4848-ac61-b27599401807",
   "metadata": {},
   "outputs": [
    {
     "name": "stdout",
     "output_type": "stream",
     "text": [
      "5.11\n",
      "<class 'float'>\n"
     ]
    }
   ],
   "source": [
    "## floating point datatype\n",
    "height = 5.11\n",
    "print(height)\n",
    "print(type(height))"
   ]
  },
  {
   "cell_type": "code",
   "execution_count": 10,
   "id": "3959a34d-314a-4fee-9368-4d6706c73632",
   "metadata": {},
   "outputs": [
    {
     "name": "stdout",
     "output_type": "stream",
     "text": [
      "Deepak\n",
      "<class 'str'>\n"
     ]
    }
   ],
   "source": [
    "## string datatype example\n",
    "name = \"Deepak\"\n",
    "print(name)\n",
    "print(type(name))"
   ]
  },
  {
   "cell_type": "code",
   "execution_count": 12,
   "id": "2b8bbef8-d78e-4301-89cc-20673af2766a",
   "metadata": {},
   "outputs": [
    {
     "data": {
      "text/plain": [
       "bool"
      ]
     },
     "execution_count": 12,
     "metadata": {},
     "output_type": "execute_result"
    }
   ],
   "source": [
    "## bolean datatype\n",
    "is_true=True\n",
    "type(is_true)"
   ]
  },
  {
   "cell_type": "code",
   "execution_count": 14,
   "id": "13629ae2-ed65-46a9-96c8-0abc1d4291d2",
   "metadata": {},
   "outputs": [
    {
     "data": {
      "text/plain": [
       "bool"
      ]
     },
     "execution_count": 14,
     "metadata": {},
     "output_type": "execute_result"
    }
   ],
   "source": [
    "a=10\n",
    "b=34 \n",
    "type(a==b)"
   ]
  },
  {
   "cell_type": "code",
   "execution_count": 16,
   "id": "44ef3f1d-ffef-4200-acdd-2d0b94a91c9b",
   "metadata": {},
   "outputs": [
    {
     "name": "stdout",
     "output_type": "stream",
     "text": [
      "hellohellohellohellohello\n"
     ]
    }
   ],
   "source": [
    "## common error\n",
    "\n",
    "# result = \"hello\" + 5\n",
    "result = \"hello\" * 5\n",
    "print(result)"
   ]
  },
  {
   "cell_type": "code",
   "execution_count": 18,
   "id": "e8187676-2bcf-45b7-bfc7-6aad54d75dc6",
   "metadata": {},
   "outputs": [
    {
     "name": "stdout",
     "output_type": "stream",
     "text": [
      "hello5\n"
     ]
    }
   ],
   "source": [
    "result=\"hello\" + str(5)\n",
    "print(result)"
   ]
  },
  {
   "cell_type": "code",
   "execution_count": null,
   "id": "b54f4448-d190-48a2-83ea-70cd71c88ef9",
   "metadata": {},
   "outputs": [],
   "source": [
    "\n",
    "\n",
    "\n"
   ]
  },
  {
   "cell_type": "markdown",
   "id": "fe5c5033-d81b-462d-a06f-e62a4b4be888",
   "metadata": {},
   "source": [
    "# conditional statements (if,elif,else)"
   ]
  },
  {
   "cell_type": "code",
   "execution_count": null,
   "id": "cb46bf6f-72bb-4860-b4f4-b731e838c2ae",
   "metadata": {},
   "outputs": [],
   "source": [
    "## if statement\n",
    "age=15\n",
    "if age >= 18:\n",
    "    print(\"you are eligible for voting\")"
   ]
  },
  {
   "cell_type": "code",
   "execution_count": 23,
   "id": "eb55aa0f-dc44-414b-9671-e3d213b918f6",
   "metadata": {},
   "outputs": [
    {
     "data": {
      "text/plain": [
       "False"
      ]
     },
     "execution_count": 23,
     "metadata": {},
     "output_type": "execute_result"
    }
   ],
   "source": [
    "age <= 18"
   ]
  },
  {
   "cell_type": "code",
   "execution_count": 27,
   "id": "14782928-455f-4e96-a6fa-de1b5c78c12f",
   "metadata": {},
   "outputs": [
    {
     "name": "stdout",
     "output_type": "stream",
     "text": [
      "you are a minior\n"
     ]
    }
   ],
   "source": [
    "## else statement\n",
    "\n",
    "age = 16\n",
    "if age >= 18:\n",
    "    print(\"you are eligible for voting\")\n",
    "else:\n",
    "    print(\"you are a minior\")"
   ]
  },
  {
   "cell_type": "code",
   "execution_count": 39,
   "id": "ff4387e5-fc1b-4130-aac0-967dfaefda9c",
   "metadata": {},
   "outputs": [
    {
     "name": "stdout",
     "output_type": "stream",
     "text": [
      "you are an adult\n"
     ]
    }
   ],
   "source": [
    "# elif statement\n",
    "\n",
    "age=39\n",
    "\n",
    "if age < 13:\n",
    "    print(\"you are a child\")\n",
    "elif age > 18 and age < 40:\n",
    "    print(\"you are an adult\")\n",
    "else:\n",
    "    print(\"you are an old adult\")"
   ]
  },
  {
   "cell_type": "code",
   "execution_count": 44,
   "id": "4cd280ae-83a6-49dd-9fd6-21378a20699e",
   "metadata": {},
   "outputs": [
    {
     "name": "stdout",
     "output_type": "stream",
     "text": [
      "odd\n"
     ]
    }
   ],
   "source": [
    "num = 41\n",
    "\n",
    "if num%2==0:\n",
    "    print(\"even\")\n",
    "else:\n",
    "    print(\"odd\")"
   ]
  },
  {
   "cell_type": "code",
   "execution_count": 46,
   "id": "0b51bebc-f0b6-4ebf-8c42-e90f3ff5550e",
   "metadata": {},
   "outputs": [
    {
     "name": "stdout",
     "output_type": "stream",
     "text": [
      "even\n"
     ]
    }
   ],
   "source": [
    "num = 280\n",
    "\n",
    "if num%2==0:\n",
    "    print(\"even\")\n",
    "else:\n",
    "    print(\"odd\")"
   ]
  },
  {
   "cell_type": "code",
   "execution_count": 71,
   "id": "59aecd49-f195-4b58-8e2e-606b1aa556bd",
   "metadata": {},
   "outputs": [
    {
     "name": "stdin",
     "output_type": "stream",
     "text": [
      "Enter the number 2\n"
     ]
    },
    {
     "name": "stdout",
     "output_type": "stream",
     "text": [
      "The number is positive\n",
      "The number is even\n"
     ]
    }
   ],
   "source": [
    "## Nested Conditional Statements\n",
    "num = int(input(\"Enter the number\"))\n",
    "\n",
    "if num > 0:\n",
    "    print(\"The number is positive\")\n",
    "    if num%2 == 0:\n",
    "     print(\"The number is even\")\n",
    "    else:\n",
    "     print(\"The number is odd\")\n",
    "else:\n",
    "    print(\"The number is zero or negative\")"
   ]
  },
  {
   "cell_type": "code",
   "execution_count": 73,
   "id": "26098922-a41b-4dea-9a61-d3bdfd45b5ca",
   "metadata": {},
   "outputs": [
    {
     "name": "stdin",
     "output_type": "stream",
     "text": [
      "Enter the year 2007\n"
     ]
    },
    {
     "name": "stdout",
     "output_type": "stream",
     "text": [
      "2007 is not a leap year\n"
     ]
    }
   ],
   "source": [
    "## Practical Examples\n",
    "\n",
    "## Determine if a year is a leap year using nested condition statement\n",
    "\n",
    "year=int(input(\"Enter the year\"))\n",
    "\n",
    "if year %4 == 0:\n",
    "    if year % 100 == 0:\n",
    "        if year % 400 == 0:\n",
    "            print(year,\"is a leap year\")\n",
    "        else:\n",
    "            print(year,\"is not a leap year\")\n",
    "    else:\n",
    "        print(year,\"is a leap year\")\n",
    "else:\n",
    "    print(year,\"is not a leap year\")"
   ]
  },
  {
   "cell_type": "code",
   "execution_count": 77,
   "id": "6e5b462d-964e-4907-a6b3-5237d3d5bc81",
   "metadata": {},
   "outputs": [
    {
     "name": "stdin",
     "output_type": "stream",
     "text": [
      "Enter first number:  34\n",
      "Enter second number:  12\n",
      "Enter operation (+, -, *, /):  +\n"
     ]
    },
    {
     "name": "stdout",
     "output_type": "stream",
     "text": [
      "result 46.0\n"
     ]
    }
   ],
   "source": [
    "## Assignment\n",
    "## Simple Calculator program\n",
    "# Take user input\n",
    "num1 = float(input(\"Enter first number: \"))\n",
    "num2 = float(input(\"Enter second number: \"))\n",
    "operation = input(\"Enter operation (+, -, *, /): \")\n",
    "\n",
    "# Perform the requested operation\n",
    "if operation == '+':\n",
    "    result = num1 + num2\n",
    "elif operation == '-':\n",
    "    result = num1 - num2\n",
    "elif operation == '*':\n",
    "    result = num1 * num2\n",
    "elif operation == '/':\n",
    "    if num2 != 0:\n",
    "        result = num1 / num2\n",
    "    else:\n",
    "        result = \"Error! Division by zero.\"\n",
    "else:\n",
    "    result = \"invalid operation\"\n",
    "\n",
    "print(\"result\",result)"
   ]
  },
  {
   "cell_type": "code",
   "execution_count": 82,
   "id": "2905499c-09b0-4d29-bc41-f93a7ded31e8",
   "metadata": {},
   "outputs": [
    {
     "name": "stdin",
     "output_type": "stream",
     "text": [
      "Enter your age:  21\n",
      "Are you a student? (yes/no):  no\n"
     ]
    },
    {
     "name": "stdout",
     "output_type": "stream",
     "text": [
      "Ticket Price: $25\n"
     ]
    }
   ],
   "source": [
    "### Determine the ticket price based on age and whether the person is a student\n",
    "\n",
    "# Take user input\n",
    "\n",
    "age = int(input(\"Enter your age: \"))\n",
    "is_student = input(\"Are you a student? (yes/no): \").lower()\n",
    "# Determine ticket price\n",
    "if age < 5:\n",
    "    price = \"Free\"\n",
    "elif age <= 12:\n",
    "    price = \"$10\"\n",
    "elif age <= 17:\n",
    "    if is_student == 'yes':\n",
    "        price = \"$12\"\n",
    "    else:\n",
    "        price = \"$15\"\n",
    "elif age <= 64:\n",
    "    if is_student == 'yes':\n",
    "        price = \"$18\"\n",
    "    else:\n",
    "        price = \"$25\"\n",
    "else:\n",
    "    price = \"$20\"\n",
    "    \n",
    "print(\"Ticket Price:\", price)"
   ]
  },
  {
   "cell_type": "markdown",
   "id": "ca027997-4e45-4fe9-a15f-b7bb9a9ae6c2",
   "metadata": {},
   "source": [
    "## Complex example: User login system"
   ]
  },
  {
   "cell_type": "code",
   "execution_count": null,
   "id": "67b2142f-31b6-464b-b424-fa89272c0589",
   "metadata": {},
   "outputs": [],
   "source": [
    "# user login system\n",
    "\n",
    "stored_username = \"deepak\"\n",
    "stored_password = \"password123\"\n",
    "\n",
    "#take user"
   ]
  },
  {
   "cell_type": "code",
   "execution_count": 93,
   "id": "efaa8b0b-9a12-4760-a40b-cbac57a1d427",
   "metadata": {},
   "outputs": [
    {
     "name": "stdin",
     "output_type": "stream",
     "text": [
      "Enter username:  deepak\n",
      "Enter password:  password123\n"
     ]
    },
    {
     "name": "stdout",
     "output_type": "stream",
     "text": [
      "login successful!.\n"
     ]
    }
   ],
   "source": [
    "# user login system\n",
    "\n",
    "stored_username = \"deepak\"\n",
    "stored_password = \"password123\"\n",
    "\n",
    "#take user input\n",
    "username = input(\"Enter username: \")\n",
    "password = input(\"Enter password: \")\n",
    "\n",
    "# check login credentials\n",
    "if username == stored_username:\n",
    "    if password == stored_password:\n",
    "        print(\"login successful!.\")\n",
    "    else:print(\"incorrect password.\")\n",
    "else:\n",
    "    print(\"username not found\")\n",
    "        "
   ]
  },
  {
   "cell_type": "markdown",
   "id": "42b367f8-a894-4c33-9aad-b6bb0bad38d4",
   "metadata": {},
   "source": [
    "# Operators:\n",
    "### 1. Arithmatic operation"
   ]
  },
  {
   "cell_type": "code",
   "execution_count": 101,
   "id": "cb834677-935c-406f-af3c-998458b490a3",
   "metadata": {},
   "outputs": [
    {
     "name": "stdout",
     "output_type": "stream",
     "text": [
      "15\n",
      "5\n",
      "50\n",
      "2.0\n",
      "2\n",
      "0\n",
      "100000\n"
     ]
    }
   ],
   "source": [
    "## Arithmethic Operation\n",
    "\n",
    "a = 10\n",
    "b = 5\n",
    "\n",
    "add_result = a+b #additon\n",
    "sub_result = a-b #substraction \n",
    "mult_result = a*b #multiplication\n",
    "div_result = a/b #division\n",
    "floor_div_result = a//b ## floor division\n",
    "modulus_result = a%b #modulus operation\n",
    "exponent_result = a**b ## Exponentiation\n",
    "print(add_result)\n",
    "print(sub_result)\n",
    "print(mult_result)\n",
    "print(div_result)\n",
    "print(floor_div_result)\n",
    "print(modulus_result)\n",
    "print(exponent_result)"
   ]
  },
  {
   "cell_type": "code",
   "execution_count": 103,
   "id": "f609f0e9-8bbd-4c9c-b0d2-4a9ea884ba2a",
   "metadata": {},
   "outputs": [
    {
     "name": "stdout",
     "output_type": "stream",
     "text": [
      "15\n",
      "5\n"
     ]
    }
   ],
   "source": [
    "a = 10\n",
    "b = 5 \n",
    "\n",
    "print(a+b)\n",
    "print(a-b)"
   ]
  },
  {
   "cell_type": "code",
   "execution_count": 105,
   "id": "dfa45ab6-088d-4687-b15b-4b4257553d62",
   "metadata": {},
   "outputs": [
    {
     "data": {
      "text/plain": [
       "5.0"
      ]
     },
     "execution_count": 105,
     "metadata": {},
     "output_type": "execute_result"
    }
   ],
   "source": [
    "10/2"
   ]
  },
  {
   "cell_type": "code",
   "execution_count": 107,
   "id": "1c6e1100-2c9a-400d-8e56-c9a8127a5d33",
   "metadata": {},
   "outputs": [
    {
     "data": {
      "text/plain": [
       "4.2"
      ]
     },
     "execution_count": 107,
     "metadata": {},
     "output_type": "execute_result"
    }
   ],
   "source": [
    "21/5"
   ]
  },
  {
   "cell_type": "code",
   "execution_count": 115,
   "id": "9ca61bd2-fad8-40a8-9855-93817ca3e31f",
   "metadata": {},
   "outputs": [
    {
     "data": {
      "text/plain": [
       "256"
      ]
     },
     "execution_count": 115,
     "metadata": {},
     "output_type": "execute_result"
    }
   ],
   "source": [
    "2**(2**3)"
   ]
  },
  {
   "cell_type": "code",
   "execution_count": 113,
   "id": "d986e0e2-b7aa-4789-aec2-59ea9d2c9de7",
   "metadata": {},
   "outputs": [
    {
     "data": {
      "text/plain": [
       "121"
      ]
     },
     "execution_count": 113,
     "metadata": {},
     "output_type": "execute_result"
    }
   ],
   "source": [
    "(5+6)**2"
   ]
  },
  {
   "cell_type": "markdown",
   "id": "8f98eafb-8c3d-4eb3-8868-48c843789b1d",
   "metadata": {},
   "source": [
    "### 2. Comparison operator"
   ]
  },
  {
   "cell_type": "code",
   "execution_count": 121,
   "id": "d3335499-f7d7-41df-887f-442c34622125",
   "metadata": {},
   "outputs": [
    {
     "data": {
      "text/plain": [
       "False"
      ]
     },
     "execution_count": 121,
     "metadata": {},
     "output_type": "execute_result"
    }
   ],
   "source": [
    "## comparison operation\n",
    "## == equal to\n",
    "\n",
    "a = 10\n",
    "b = 10.1\n",
    "\n",
    "a == b"
   ]
  },
  {
   "cell_type": "code",
   "execution_count": 123,
   "id": "fafb20b8-279b-4634-92c5-a0226405296d",
   "metadata": {},
   "outputs": [
    {
     "data": {
      "text/plain": [
       "True"
      ]
     },
     "execution_count": 123,
     "metadata": {},
     "output_type": "execute_result"
    }
   ],
   "source": [
    "str1 = \"Deepak\"\n",
    "str2 = \"Deepak\"\n",
    "\n",
    "str1 == str2"
   ]
  },
  {
   "cell_type": "code",
   "execution_count": 125,
   "id": "bbaf60f9-9a45-4e32-95fd-73d606ff40cf",
   "metadata": {},
   "outputs": [
    {
     "data": {
      "text/plain": [
       "False"
      ]
     },
     "execution_count": 125,
     "metadata": {},
     "output_type": "execute_result"
    }
   ],
   "source": [
    "## NOT equal to !=\n",
    "str1 != str2"
   ]
  },
  {
   "cell_type": "code",
   "execution_count": 127,
   "id": "39b14524-8838-4550-be06-3b6137e733c5",
   "metadata": {},
   "outputs": [
    {
     "data": {
      "text/plain": [
       "False"
      ]
     },
     "execution_count": 127,
     "metadata": {},
     "output_type": "execute_result"
    }
   ],
   "source": [
    "str3 = \"Deepak\"\n",
    "str4 = \"Deepak\"\n",
    "\n",
    "str3 != str4"
   ]
  },
  {
   "cell_type": "code",
   "execution_count": 129,
   "id": "67cf3d50-c53a-4792-82af-d3c144558951",
   "metadata": {},
   "outputs": [
    {
     "data": {
      "text/plain": [
       "True"
      ]
     },
     "execution_count": 129,
     "metadata": {},
     "output_type": "execute_result"
    }
   ],
   "source": [
    "# greater than >\n",
    "num1 = 34\n",
    "num2 = 23\n",
    "\n",
    "num1 > num2"
   ]
  },
  {
   "cell_type": "code",
   "execution_count": 131,
   "id": "85d16e99-1d6b-4c2a-8ffd-e7461bcdcef9",
   "metadata": {},
   "outputs": [
    {
     "data": {
      "text/plain": [
       "False"
      ]
     },
     "execution_count": 131,
     "metadata": {},
     "output_type": "execute_result"
    }
   ],
   "source": [
    "# less then <\n",
    "num1 < num2"
   ]
  },
  {
   "cell_type": "code",
   "execution_count": 143,
   "id": "10630422-0421-458d-bf93-a7a443c7368a",
   "metadata": {},
   "outputs": [
    {
     "data": {
      "text/plain": [
       "True"
      ]
     },
     "execution_count": 143,
     "metadata": {},
     "output_type": "execute_result"
    }
   ],
   "source": [
    "# greater then of equal to\n",
    "number1 = 45\n",
    "number2 = 45\n",
    "\n",
    "number1 <= number2\n"
   ]
  },
  {
   "cell_type": "markdown",
   "id": "09e41672-18fa-48b2-b8bd-b1f81abaea7a",
   "metadata": {},
   "source": [
    "## Logical Operator"
   ]
  },
  {
   "cell_type": "code",
   "execution_count": 153,
   "id": "e720bfca-93e3-4d06-a76f-89a4e21c52f7",
   "metadata": {},
   "outputs": [
    {
     "name": "stdout",
     "output_type": "stream",
     "text": [
      "True\n"
     ]
    }
   ],
   "source": [
    "## AND\n",
    "X = True\n",
    "Y = True\n",
    "\n",
    "result = X and Y\n",
    "print(result)"
   ]
  },
  {
   "cell_type": "code",
   "execution_count": 155,
   "id": "c5ca31c3-70af-46ef-9022-2126a145cbc3",
   "metadata": {},
   "outputs": [
    {
     "name": "stdout",
     "output_type": "stream",
     "text": [
      "False\n"
     ]
    }
   ],
   "source": [
    "X = True\n",
    "Y = False\n",
    "\n",
    "result = X and Y\n",
    "print(result)"
   ]
  },
  {
   "cell_type": "code",
   "execution_count": 157,
   "id": "9fe633ea-e22a-4b4f-8756-8e6f32d63a35",
   "metadata": {},
   "outputs": [
    {
     "name": "stdout",
     "output_type": "stream",
     "text": [
      "False\n"
     ]
    }
   ],
   "source": [
    "## OR\n",
    "X = False\n",
    "Y = False\n",
    "\n",
    "result = X or Y\n",
    "print(result)"
   ]
  },
  {
   "cell_type": "code",
   "execution_count": 167,
   "id": "7dd9e6da-a737-4b3b-821e-b57d9f542a3e",
   "metadata": {},
   "outputs": [
    {
     "data": {
      "text/plain": [
       "True"
      ]
     },
     "execution_count": 167,
     "metadata": {},
     "output_type": "execute_result"
    }
   ],
   "source": [
    "## NOT\n",
    "X = False\n",
    "not X"
   ]
  },
  {
   "cell_type": "code",
   "execution_count": 169,
   "id": "753f9040-33ae-4441-a4ea-d9d36a16429d",
   "metadata": {},
   "outputs": [
    {
     "name": "stdin",
     "output_type": "stream",
     "text": [
      "Enter first number:  10\n",
      "Enter second number:  15\n"
     ]
    },
    {
     "name": "stdout",
     "output_type": "stream",
     "text": [
      "Addition: 25.0\n",
      "Subtraction: -5.0\n",
      "Multiplication: 150.0\n",
      "Division: 0.6666666666666666\n",
      "Floor Division: 0.0\n",
      "Modulus: 10.0\n",
      "Exponentiation: 1000000000000000.0\n"
     ]
    }
   ],
   "source": [
    "# Simple calculator\n",
    "\n",
    "num1 = float(input(\"Enter first number: \"))\n",
    "num2 = float(input(\"Enter second number: \"))\n",
    "\n",
    "# Performing arithmetic operations:\n",
    "\n",
    "addition = num1 + num2\n",
    "subtraction = num1 - num2\n",
    "multiplication = num1 * num2\n",
    "division = num1 / num2\n",
    "floor_division = num1 // num2\n",
    "modulus = num1 % num2\n",
    "exponentiation = num1 ** num2\n",
    "\n",
    "# Displaying result--->\n",
    "\n",
    "print(\"Addition:\", addition)\n",
    "print(\"Subtraction:\", subtraction)\n",
    "print(\"Multiplication:\", multiplication)\n",
    "print(\"Division:\", division)\n",
    "print(\"Floor Division:\", floor_division)\n",
    "print(\"Modulus:\", modulus)\n",
    "print(\"Exponentiation:\", exponentiation)"
   ]
  },
  {
   "cell_type": "code",
   "execution_count": 177,
   "id": "13484585-395a-4252-93da-10f83c262551",
   "metadata": {},
   "outputs": [
    {
     "name": "stdin",
     "output_type": "stream",
     "text": [
      "enter first number:  1\n",
      "enterr second number:  5\n"
     ]
    },
    {
     "name": "stdout",
     "output_type": "stream",
     "text": [
      "sum is  6\n"
     ]
    }
   ],
   "source": [
    "a = int(input(\"enter first number: \"))\n",
    "b = int(input(\"enterr second number: \"))\n",
    "\n",
    "print(\"sum is \", a+b)"
   ]
  },
  {
   "cell_type": "markdown",
   "id": "9a9b43a9-9b32-477e-9e9a-40f4c9765249",
   "metadata": {},
   "source": [
    "# Loops"
   ]
  },
  {
   "cell_type": "code",
   "execution_count": 180,
   "id": "45373e31-cb27-45ec-856a-9aff76206e57",
   "metadata": {},
   "outputs": [
    {
     "data": {
      "text/plain": [
       "range(0, 5)"
      ]
     },
     "execution_count": 180,
     "metadata": {},
     "output_type": "execute_result"
    }
   ],
   "source": [
    "range(5)"
   ]
  },
  {
   "cell_type": "code",
   "execution_count": 182,
   "id": "22ac9eb4-1859-4950-b26e-e8ee2c1242e2",
   "metadata": {},
   "outputs": [
    {
     "name": "stdout",
     "output_type": "stream",
     "text": [
      "0\n",
      "1\n",
      "2\n",
      "3\n",
      "4\n"
     ]
    }
   ],
   "source": [
    "## for loop:\n",
    "for i in range(5):\n",
    "    print(i)"
   ]
  },
  {
   "cell_type": "code",
   "execution_count": 186,
   "id": "41f3fb00-1f08-44db-888f-768eb1d411e4",
   "metadata": {},
   "outputs": [
    {
     "name": "stdout",
     "output_type": "stream",
     "text": [
      "Deepak 1\n",
      "Deepak 2\n",
      "Deepak 3\n",
      "Deepak 4\n"
     ]
    }
   ],
   "source": [
    "for i in range(1,5):\n",
    "    print(\"Deepak\", i)"
   ]
  },
  {
   "cell_type": "code",
   "execution_count": 190,
   "id": "d9edd87e-b1a4-41e3-a12a-dc43bc0778c8",
   "metadata": {},
   "outputs": [
    {
     "name": "stdout",
     "output_type": "stream",
     "text": [
      "1\n",
      "3\n",
      "5\n",
      "7\n",
      "9\n"
     ]
    }
   ],
   "source": [
    "for i in range (1,10,2):\n",
    "    print(i)"
   ]
  },
  {
   "cell_type": "code",
   "execution_count": 202,
   "id": "25e0fd8a-db4c-48b9-9dc4-af83f41ea807",
   "metadata": {},
   "outputs": [],
   "source": [
    "for i in range (1,10,-1):\n",
    "    print(i)"
   ]
  },
  {
   "cell_type": "code",
   "execution_count": 206,
   "id": "4f6265f5-a104-49da-9a54-44a73c0d3c57",
   "metadata": {},
   "outputs": [
    {
     "name": "stdout",
     "output_type": "stream",
     "text": [
      "10\n",
      "8\n",
      "6\n",
      "4\n",
      "2\n"
     ]
    }
   ],
   "source": [
    "for i in range (10,1,-2):\n",
    "    print(i)"
   ]
  },
  {
   "cell_type": "code",
   "execution_count": 208,
   "id": "860455eb-7617-4643-86a8-08f4bc336c68",
   "metadata": {},
   "outputs": [
    {
     "name": "stdout",
     "output_type": "stream",
     "text": [
      "D\n",
      "e\n",
      "e\n",
      "p\n",
      "a\n",
      "k\n",
      " \n",
      "s\n",
      "h\n",
      "a\n",
      "r\n",
      "m\n",
      "a\n"
     ]
    }
   ],
   "source": [
    "## Strings\n",
    "str=\"Deepak sharma\"\n",
    "\n",
    "for i in str:\n",
    "    print(i)"
   ]
  },
  {
   "cell_type": "code",
   "execution_count": 214,
   "id": "db15cf79-7d0f-468c-8f27-5d3151a367da",
   "metadata": {},
   "outputs": [
    {
     "name": "stdout",
     "output_type": "stream",
     "text": [
      "0\n",
      "1\n",
      "2\n",
      "3\n",
      "4\n"
     ]
    }
   ],
   "source": [
    "## while loop\n",
    "\n",
    "count=0\n",
    "\n",
    "while count<5:\n",
    "    print(count)\n",
    "    count=count+1"
   ]
  },
  {
   "cell_type": "code",
   "execution_count": 262,
   "id": "50d0fa84-de35-4efb-97b6-126f0def2d6e",
   "metadata": {},
   "outputs": [
    {
     "name": "stdout",
     "output_type": "stream",
     "text": [
      "Help on class range in module builtins:\n",
      "\n",
      "class range(object)\n",
      " |  range(stop) -> range object\n",
      " |  range(start, stop[, step]) -> range object\n",
      " |\n",
      " |  Return an object that produces a sequence of integers from start (inclusive)\n",
      " |  to stop (exclusive) by step.  range(i, j) produces i, i+1, i+2, ..., j-1.\n",
      " |  start defaults to 0, and stop is omitted!  range(4) produces 0, 1, 2, 3.\n",
      " |  These are exactly the valid indices for a list of 4 elements.\n",
      " |  When step is given, it specifies the increment (or decrement).\n",
      " |\n",
      " |  Methods defined here:\n",
      " |\n",
      " |  __bool__(self, /)\n",
      " |      True if self else False\n",
      " |\n",
      " |  __contains__(self, key, /)\n",
      " |      Return bool(key in self).\n",
      " |\n",
      " |  __eq__(self, value, /)\n",
      " |      Return self==value.\n",
      " |\n",
      " |  __ge__(self, value, /)\n",
      " |      Return self>=value.\n",
      " |\n",
      " |  __getattribute__(self, name, /)\n",
      " |      Return getattr(self, name).\n",
      " |\n",
      " |  __getitem__(self, key, /)\n",
      " |      Return self[key].\n",
      " |\n",
      " |  __gt__(self, value, /)\n",
      " |      Return self>value.\n",
      " |\n",
      " |  __hash__(self, /)\n",
      " |      Return hash(self).\n",
      " |\n",
      " |  __iter__(self, /)\n",
      " |      Implement iter(self).\n",
      " |\n",
      " |  __le__(self, value, /)\n",
      " |      Return self<=value.\n",
      " |\n",
      " |  __len__(self, /)\n",
      " |      Return len(self).\n",
      " |\n",
      " |  __lt__(self, value, /)\n",
      " |      Return self<value.\n",
      " |\n",
      " |  __ne__(self, value, /)\n",
      " |      Return self!=value.\n",
      " |\n",
      " |  __reduce__(...)\n",
      " |      Helper for pickle.\n",
      " |\n",
      " |  __repr__(self, /)\n",
      " |      Return repr(self).\n",
      " |\n",
      " |  __reversed__(...)\n",
      " |      Return a reverse iterator.\n",
      " |\n",
      " |  count(...)\n",
      " |      rangeobject.count(value) -> integer -- return number of occurrences of value\n",
      " |\n",
      " |  index(...)\n",
      " |      rangeobject.index(value) -> integer -- return index of value.\n",
      " |      Raise ValueError if the value is not present.\n",
      " |\n",
      " |  ----------------------------------------------------------------------\n",
      " |  Static methods defined here:\n",
      " |\n",
      " |  __new__(*args, **kwargs)\n",
      " |      Create and return a new object.  See help(type) for accurate signature.\n",
      " |\n",
      " |  ----------------------------------------------------------------------\n",
      " |  Data descriptors defined here:\n",
      " |\n",
      " |  start\n",
      " |\n",
      " |  step\n",
      " |\n",
      " |  stop\n",
      "\n"
     ]
    }
   ],
   "source": [
    "# checking help\n",
    "help(range)"
   ]
  },
  {
   "cell_type": "code",
   "execution_count": 242,
   "id": "604fa358-1bf1-4dde-a7e7-88a919605cfa",
   "metadata": {},
   "outputs": [
    {
     "name": "stdout",
     "output_type": "stream",
     "text": [
      "1\n",
      "3\n",
      "5\n",
      "7\n",
      "9\n"
     ]
    }
   ],
   "source": [
    "## loop control statements\n",
    "\n",
    "# continue statement.\n",
    "\n",
    "for i in range(10):\n",
    "    if i%2==0:\n",
    "        continue\n",
    "    print(i)"
   ]
  },
  {
   "cell_type": "code",
   "execution_count": 246,
   "id": "4027204c-1e1c-4162-8905-e55f8258d4dc",
   "metadata": {},
   "outputs": [
    {
     "name": "stdout",
     "output_type": "stream",
     "text": [
      "0\n",
      "1\n",
      "2\n",
      "3\n",
      "4\n"
     ]
    }
   ],
   "source": [
    "# break statement.\n",
    "\n",
    "for i in range(10):\n",
    "    if i==5:\n",
    "        break\n",
    "    print(i)"
   ]
  },
  {
   "cell_type": "code",
   "execution_count": 250,
   "id": "8610b137-8ce6-4535-974e-3589641ae165",
   "metadata": {},
   "outputs": [
    {
     "name": "stdout",
     "output_type": "stream",
     "text": [
      "i:1 and j: 0\n",
      "i:1 and j: 1\n",
      "i:1 and j: 0\n",
      "i:1 and j: 1\n",
      "i:1 and j: 0\n",
      "i:1 and j: 1\n"
     ]
    }
   ],
   "source": [
    "# pass statement.\n",
    "\n",
    "for i in range(3):\n",
    "    for j in range(2):\n",
    "        print(f\"i:{1} and j: {j}\")"
   ]
  },
  {
   "cell_type": "code",
   "execution_count": 252,
   "id": "df29e990-c91e-4ceb-b4c1-53b481d21d01",
   "metadata": {},
   "outputs": [
    {
     "name": "stdout",
     "output_type": "stream",
     "text": [
      "Sum of first 10 natural number: 55\n"
     ]
    }
   ],
   "source": [
    "## Examples- Calculate the sum of first N natural numbers using a while and for \n",
    "## while loop \n",
    "n=10 \n",
    "sum=0\n",
    "count=1\n",
    "while count<=n:\n",
    " sum=sum+count\n",
    " count=count+1\n",
    "print(\"Sum of first 10 natural number:\",sum)"
   ]
  },
  {
   "cell_type": "code",
   "execution_count": 254,
   "id": "1bf4f507-1d02-4ab9-bbc3-61ad3eb4bfde",
   "metadata": {},
   "outputs": [
    {
     "name": "stdout",
     "output_type": "stream",
     "text": [
      "11\n"
     ]
    }
   ],
   "source": [
    "n=10\n",
    "sum=0\n",
    "for i in range(11):\n",
    "    sum=sum+1\n",
    "\n",
    "print(sum)"
   ]
  },
  {
   "cell_type": "code",
   "execution_count": 270,
   "id": "1588a1e4-49f2-4eb0-b2ee-3577d8625394",
   "metadata": {},
   "outputs": [
    {
     "name": "stdout",
     "output_type": "stream",
     "text": [
      "3\n",
      "5\n",
      "5\n",
      "5\n",
      "7\n",
      "7\n",
      "7\n",
      "7\n",
      "7\n",
      "9\n"
     ]
    }
   ],
   "source": [
    "## Example- Prime numbers between 1 and 100\n",
    "for num in range(1,10):\n",
    "    if num>1:\n",
    "        for i in range(2,num):\n",
    "            if num%i==0:\n",
    "                break\n",
    "            else:\n",
    "                print(num)"
   ]
  },
  {
   "cell_type": "code",
   "execution_count": 276,
   "id": "770e89dd-bd9b-4373-8cd9-bf3534e2fbbd",
   "metadata": {},
   "outputs": [
    {
     "name": "stdout",
     "output_type": "stream",
     "text": [
      "10 * 1 = 10\n",
      "10 * 2 = 10\n",
      "10 * 3 = 10\n",
      "10 * 4 = 10\n",
      "10 * 5 = 10\n",
      "10 * 6 = 10\n",
      "10 * 7 = 10\n",
      "10 * 8 = 10\n",
      "10 * 9 = 10\n",
      "10 * 10 = 10\n"
     ]
    }
   ],
   "source": [
    "# Printing a table\n",
    "for i  in range(1,11):\n",
    "    print(f\"{n} * {i} = {n*1}\")"
   ]
  },
  {
   "cell_type": "markdown",
   "id": "a4541900-223b-4f6c-8040-c3e5621a9cc4",
   "metadata": {},
   "source": [
    "# Lists"
   ]
  },
  {
   "cell_type": "markdown",
   "id": "80c18ecd-5a4b-42e0-a25f-1ab761bf9ff0",
   "metadata": {},
   "source": [
    "## How to create..."
   ]
  },
  {
   "cell_type": "code",
   "execution_count": 285,
   "id": "8cf31423-1a53-4d86-9b69-0f2094e7ba99",
   "metadata": {},
   "outputs": [
    {
     "name": "stdout",
     "output_type": "stream",
     "text": [
      "<class 'list'>\n"
     ]
    }
   ],
   "source": [
    "lst=[]\n",
    "print(type(lst))"
   ]
  },
  {
   "cell_type": "code",
   "execution_count": 287,
   "id": "7451779c-8077-4948-803a-6136e2f9e3ad",
   "metadata": {},
   "outputs": [
    {
     "data": {
      "text/plain": [
       "[]"
      ]
     },
     "execution_count": 287,
     "metadata": {},
     "output_type": "execute_result"
    }
   ],
   "source": [
    "lst"
   ]
  },
  {
   "cell_type": "code",
   "execution_count": 291,
   "id": "a72bb90d-fdf0-4381-88b4-079da149072c",
   "metadata": {},
   "outputs": [
    {
     "name": "stdout",
     "output_type": "stream",
     "text": [
      "[1, 2, 3, 4, 5]\n",
      "<class 'list'>\n"
     ]
    }
   ],
   "source": [
    "lst = [1,2,3,4,5]\n",
    "print(lst)\n",
    "print(type(lst))"
   ]
  },
  {
   "cell_type": "code",
   "execution_count": 293,
   "id": "566996d6-b2ce-4897-86dc-065e11e33c68",
   "metadata": {},
   "outputs": [],
   "source": [
    "lst = [1,2,3,4,54,6,4,3,6,543]"
   ]
  },
  {
   "cell_type": "code",
   "execution_count": 295,
   "id": "20b28367-75d9-40ea-acf5-4da910431f99",
   "metadata": {},
   "outputs": [
    {
     "data": {
      "text/plain": [
       "[1, 2, 3, 4, 54, 6, 4, 3, 6, 543]"
      ]
     },
     "execution_count": 295,
     "metadata": {},
     "output_type": "execute_result"
    }
   ],
   "source": [
    "lst"
   ]
  },
  {
   "cell_type": "markdown",
   "id": "ae778867-5b53-4dce-9955-27d965adc003",
   "metadata": {},
   "source": [
    "# Different datatypes"
   ]
  },
  {
   "cell_type": "code",
   "execution_count": 304,
   "id": "cb633f80-fba1-401a-9c70-182df62230a6",
   "metadata": {},
   "outputs": [
    {
     "name": "stdout",
     "output_type": "stream",
     "text": [
      "['Deepak', 'jack', 'williams', 1, 2, 3, 4]\n"
     ]
    }
   ],
   "source": [
    "names = [\"Deepak\", \"jack\", \"williams\", 1,2,3,4]\n",
    "print(names)"
   ]
  },
  {
   "cell_type": "code",
   "execution_count": 306,
   "id": "c325ba20-2db4-49d6-a72e-dd1a9a1d0482",
   "metadata": {},
   "outputs": [
    {
     "name": "stdout",
     "output_type": "stream",
     "text": [
      "[1, 'hello', 2.34, True]\n"
     ]
    }
   ],
   "source": [
    "mixed_list=[1, \"hello\", 2.34, True]\n",
    "print(mixed_list)"
   ]
  },
  {
   "cell_type": "markdown",
   "id": "7ea26170-cabb-4db1-b2d0-20d828d4830f",
   "metadata": {},
   "source": [
    "## Acessing List Items"
   ]
  },
  {
   "cell_type": "code",
   "execution_count": 311,
   "id": "e8b210b7-3744-4146-aced-46b73d4d370d",
   "metadata": {},
   "outputs": [],
   "source": [
    "fruits=[\"apple\", \"banana\", \"guava\", \"chery\"]"
   ]
  },
  {
   "cell_type": "code",
   "execution_count": 317,
   "id": "7152e5ec-b25b-4b46-a232-0ac79adf1289",
   "metadata": {},
   "outputs": [
    {
     "name": "stdout",
     "output_type": "stream",
     "text": [
      "apple\n",
      "banana\n",
      "guava\n",
      "chery\n"
     ]
    }
   ],
   "source": [
    "print(fruits[0])\n",
    "print(fruits[1])\n",
    "print(fruits[2])\n",
    "print(fruits[3])"
   ]
  },
  {
   "cell_type": "code",
   "execution_count": 319,
   "id": "2cf2f2b6-b74f-4b53-83fb-4c2db99daf18",
   "metadata": {},
   "outputs": [
    {
     "data": {
      "text/plain": [
       "['apple', 'banana', 'guava', 'chery']"
      ]
     },
     "execution_count": 319,
     "metadata": {},
     "output_type": "execute_result"
    }
   ],
   "source": [
    "fruits"
   ]
  },
  {
   "cell_type": "code",
   "execution_count": 321,
   "id": "16e19362-d9ae-4701-9ca2-4327a507fbcc",
   "metadata": {},
   "outputs": [
    {
     "data": {
      "text/plain": [
       "['apple', 'banana', 'guava', 'chery']"
      ]
     },
     "execution_count": 321,
     "metadata": {},
     "output_type": "execute_result"
    }
   ],
   "source": [
    "fruits[0:4]"
   ]
  },
  {
   "cell_type": "code",
   "execution_count": 323,
   "id": "0daae479-ef74-4f1d-a897-25843fb426a9",
   "metadata": {},
   "outputs": [
    {
     "name": "stdout",
     "output_type": "stream",
     "text": [
      "['banana', 'guava', 'chery']\n",
      "['banana', 'guava']\n",
      "['apple', 'banana', 'guava']\n",
      "['apple', 'banana', 'guava', 'chery']\n",
      "['chery', 'guava', 'banana', 'apple']\n"
     ]
    }
   ],
   "source": [
    "print(fruits[1:])\n",
    "print(fruits[1:3])\n",
    "print(fruits[:3])\n",
    "print(fruits[:])\n",
    "print(fruits[::-1]) #Reverse the list"
   ]
  },
  {
   "cell_type": "code",
   "execution_count": 327,
   "id": "4e9d2c63-2274-46b1-83a7-47329b8f1ba8",
   "metadata": {},
   "outputs": [
    {
     "data": {
      "text/plain": [
       "['apple', 'banana', 'guava', 'chery']"
      ]
     },
     "execution_count": 327,
     "metadata": {},
     "output_type": "execute_result"
    }
   ],
   "source": [
    "# modifying the list elements\n",
    "fruits\n"
   ]
  },
  {
   "cell_type": "code",
   "execution_count": 329,
   "id": "44fc9b60-6a9f-48ee-8c3f-d028dbfcca3f",
   "metadata": {},
   "outputs": [
    {
     "data": {
      "text/plain": [
       "'apple'"
      ]
     },
     "execution_count": 329,
     "metadata": {},
     "output_type": "execute_result"
    }
   ],
   "source": [
    "fruits[0]"
   ]
  },
  {
   "cell_type": "code",
   "execution_count": 331,
   "id": "53e72f01-52b7-4799-9e0e-1b4d16c9fc23",
   "metadata": {},
   "outputs": [
    {
     "name": "stdout",
     "output_type": "stream",
     "text": [
      "['watermelon', 'banana', 'guava', 'chery']\n"
     ]
    }
   ],
   "source": [
    "fruits[0] = \"watermelon\" #Mutable\n",
    "print(fruits)"
   ]
  },
  {
   "cell_type": "code",
   "execution_count": 333,
   "id": "2dcdbc6b-1449-4913-b3c7-ba89285f4f33",
   "metadata": {},
   "outputs": [],
   "source": [
    "fruits[0] = \"watermelon\""
   ]
  },
  {
   "cell_type": "code",
   "execution_count": 335,
   "id": "b332a620-29ae-470b-a831-c625b58e032c",
   "metadata": {},
   "outputs": [
    {
     "data": {
      "text/plain": [
       "['watermelon', 'banana', 'guava', 'chery']"
      ]
     },
     "execution_count": 335,
     "metadata": {},
     "output_type": "execute_result"
    }
   ],
   "source": [
    "fruits"
   ]
  },
  {
   "cell_type": "code",
   "execution_count": 339,
   "id": "052124e3-549f-4fa8-be05-bc88cd0dea5d",
   "metadata": {},
   "outputs": [
    {
     "name": "stdout",
     "output_type": "stream",
     "text": [
      "Help on class list in module builtins:\n",
      "\n",
      "class list(object)\n",
      " |  list(iterable=(), /)\n",
      " |\n",
      " |  Built-in mutable sequence.\n",
      " |\n",
      " |  If no argument is given, the constructor creates a new empty list.\n",
      " |  The argument must be an iterable if specified.\n",
      " |\n",
      " |  Methods defined here:\n",
      " |\n",
      " |  __add__(self, value, /)\n",
      " |      Return self+value.\n",
      " |\n",
      " |  __contains__(self, key, /)\n",
      " |      Return bool(key in self).\n",
      " |\n",
      " |  __delitem__(self, key, /)\n",
      " |      Delete self[key].\n",
      " |\n",
      " |  __eq__(self, value, /)\n",
      " |      Return self==value.\n",
      " |\n",
      " |  __ge__(self, value, /)\n",
      " |      Return self>=value.\n",
      " |\n",
      " |  __getattribute__(self, name, /)\n",
      " |      Return getattr(self, name).\n",
      " |\n",
      " |  __getitem__(self, index, /)\n",
      " |      Return self[index].\n",
      " |\n",
      " |  __gt__(self, value, /)\n",
      " |      Return self>value.\n",
      " |\n",
      " |  __iadd__(self, value, /)\n",
      " |      Implement self+=value.\n",
      " |\n",
      " |  __imul__(self, value, /)\n",
      " |      Implement self*=value.\n",
      " |\n",
      " |  __init__(self, /, *args, **kwargs)\n",
      " |      Initialize self.  See help(type(self)) for accurate signature.\n",
      " |\n",
      " |  __iter__(self, /)\n",
      " |      Implement iter(self).\n",
      " |\n",
      " |  __le__(self, value, /)\n",
      " |      Return self<=value.\n",
      " |\n",
      " |  __len__(self, /)\n",
      " |      Return len(self).\n",
      " |\n",
      " |  __lt__(self, value, /)\n",
      " |      Return self<value.\n",
      " |\n",
      " |  __mul__(self, value, /)\n",
      " |      Return self*value.\n",
      " |\n",
      " |  __ne__(self, value, /)\n",
      " |      Return self!=value.\n",
      " |\n",
      " |  __repr__(self, /)\n",
      " |      Return repr(self).\n",
      " |\n",
      " |  __reversed__(self, /)\n",
      " |      Return a reverse iterator over the list.\n",
      " |\n",
      " |  __rmul__(self, value, /)\n",
      " |      Return value*self.\n",
      " |\n",
      " |  __setitem__(self, key, value, /)\n",
      " |      Set self[key] to value.\n",
      " |\n",
      " |  __sizeof__(self, /)\n",
      " |      Return the size of the list in memory, in bytes.\n",
      " |\n",
      " |  append(self, object, /)\n",
      " |      Append object to the end of the list.\n",
      " |\n",
      " |  clear(self, /)\n",
      " |      Remove all items from list.\n",
      " |\n",
      " |  copy(self, /)\n",
      " |      Return a shallow copy of the list.\n",
      " |\n",
      " |  count(self, value, /)\n",
      " |      Return number of occurrences of value.\n",
      " |\n",
      " |  extend(self, iterable, /)\n",
      " |      Extend list by appending elements from the iterable.\n",
      " |\n",
      " |  index(self, value, start=0, stop=9223372036854775807, /)\n",
      " |      Return first index of value.\n",
      " |\n",
      " |      Raises ValueError if the value is not present.\n",
      " |\n",
      " |  insert(self, index, object, /)\n",
      " |      Insert object before index.\n",
      " |\n",
      " |  pop(self, index=-1, /)\n",
      " |      Remove and return item at index (default last).\n",
      " |\n",
      " |      Raises IndexError if list is empty or index is out of range.\n",
      " |\n",
      " |  remove(self, value, /)\n",
      " |      Remove first occurrence of value.\n",
      " |\n",
      " |      Raises ValueError if the value is not present.\n",
      " |\n",
      " |  reverse(self, /)\n",
      " |      Reverse *IN PLACE*.\n",
      " |\n",
      " |  sort(self, /, *, key=None, reverse=False)\n",
      " |      Sort the list in ascending order and return None.\n",
      " |\n",
      " |      The sort is in-place (i.e. the list itself is modified) and stable (i.e. the\n",
      " |      order of two equal elements is maintained).\n",
      " |\n",
      " |      If a key function is given, apply it once to each list item and sort them,\n",
      " |      ascending or descending, according to their function values.\n",
      " |\n",
      " |      The reverse flag can be set to sort in descending order.\n",
      " |\n",
      " |  ----------------------------------------------------------------------\n",
      " |  Class methods defined here:\n",
      " |\n",
      " |  __class_getitem__(...)\n",
      " |      See PEP 585\n",
      " |\n",
      " |  ----------------------------------------------------------------------\n",
      " |  Static methods defined here:\n",
      " |\n",
      " |  __new__(*args, **kwargs)\n",
      " |      Create and return a new object.  See help(type) for accurate signature.\n",
      " |\n",
      " |  ----------------------------------------------------------------------\n",
      " |  Data and other attributes defined here:\n",
      " |\n",
      " |  __hash__ = None\n",
      "\n"
     ]
    }
   ],
   "source": [
    "help(list)"
   ]
  },
  {
   "cell_type": "code",
   "execution_count": 341,
   "id": "774fd83a-eed8-4bf7-a5b0-b5eeeceb8900",
   "metadata": {},
   "outputs": [
    {
     "name": "stdout",
     "output_type": "stream",
     "text": [
      "['watermelon', 'banana', 'guava', 'chery', 'orange']\n"
     ]
    }
   ],
   "source": [
    "# List Methods\n",
    "\n",
    "fruits.append(\"orange\") ## add on items to the end\n",
    "print(fruits)"
   ]
  },
  {
   "cell_type": "code",
   "execution_count": 345,
   "id": "59579e4b-0805-4a35-8b69-e29b60f2b595",
   "metadata": {},
   "outputs": [
    {
     "name": "stdout",
     "output_type": "stream",
     "text": [
      "['watermelon', 'watermelon', 'watermelon', 'banana', 'guava', 'chery', 'orange']\n"
     ]
    }
   ],
   "source": [
    "fruits.insert(1,\"watermelon\")\n",
    "print(fruits)"
   ]
  },
  {
   "cell_type": "code",
   "execution_count": 347,
   "id": "c1917665-f386-4133-98c8-477ce0fd77b3",
   "metadata": {},
   "outputs": [
    {
     "name": "stdout",
     "output_type": "stream",
     "text": [
      "['watermelon', 'watermelon', 'banana', 'guava', 'chery', 'orange']\n"
     ]
    }
   ],
   "source": [
    "fruits.remove(\"watermelon\") ## Removing the first accurence of the item\n",
    "print(fruits)"
   ]
  },
  {
   "cell_type": "code",
   "execution_count": 349,
   "id": "2938ed12-57f7-4ea9-ad09-488fc776bbcf",
   "metadata": {},
   "outputs": [
    {
     "name": "stdout",
     "output_type": "stream",
     "text": [
      "['watermelon', 'watermelon', 'banana', 'guava', 'chery']\n",
      "orange\n"
     ]
    }
   ],
   "source": [
    "## Remove and return the last element\n",
    "popped_fruits=fruits.pop()\n",
    "print(fruits)\n",
    "print(popped_fruits)\n"
   ]
  },
  {
   "cell_type": "code",
   "execution_count": 353,
   "id": "6292af9f-4ec2-4151-880e-371fa2212d12",
   "metadata": {},
   "outputs": [
    {
     "name": "stdout",
     "output_type": "stream",
     "text": [
      "4\n"
     ]
    }
   ],
   "source": [
    "index=fruits.index(\"chery\")\n",
    "print(index)"
   ]
  },
  {
   "cell_type": "code",
   "execution_count": 355,
   "id": "d5111880-7530-4ad6-878b-a5a0f406cb9d",
   "metadata": {},
   "outputs": [
    {
     "data": {
      "text/plain": [
       "['watermelon', 'watermelon', 'banana', 'banana', 'guava', 'chery']"
      ]
     },
     "execution_count": 355,
     "metadata": {},
     "output_type": "execute_result"
    }
   ],
   "source": [
    "fruits.insert(2,\"banana\")\n",
    "fruits"
   ]
  },
  {
   "cell_type": "code",
   "execution_count": 359,
   "id": "55f0fd5b-6d99-40c1-a757-e0cd90a1c647",
   "metadata": {},
   "outputs": [
    {
     "name": "stdout",
     "output_type": "stream",
     "text": [
      "2\n"
     ]
    }
   ],
   "source": [
    "print(fruits.count(\"banana\"))"
   ]
  },
  {
   "cell_type": "code",
   "execution_count": 361,
   "id": "c8a780e9-e484-4102-8fdb-39fd9d5aaddc",
   "metadata": {},
   "outputs": [],
   "source": [
    "fruits.append(\"avocado\") ## add on iten to the end"
   ]
  },
  {
   "cell_type": "code",
   "execution_count": 363,
   "id": "dac18149-6784-47e8-858c-2736e189d611",
   "metadata": {},
   "outputs": [
    {
     "data": {
      "text/plain": [
       "['avocado', 'banana', 'banana', 'chery', 'guava', 'watermelon', 'watermelon']"
      ]
     },
     "execution_count": 363,
     "metadata": {},
     "output_type": "execute_result"
    }
   ],
   "source": [
    "# sort the list in ascending order\n",
    "fruits.sort()\n",
    "fruits"
   ]
  },
  {
   "cell_type": "code",
   "execution_count": 365,
   "id": "171661e2-b6bb-4bb0-9bf3-f086c5a0f570",
   "metadata": {},
   "outputs": [],
   "source": [
    "# sort the list in descending order\n",
    "fruits.reverse()"
   ]
  },
  {
   "cell_type": "code",
   "execution_count": 367,
   "id": "98ae70fd-1c22-47b5-99cb-588c73c1a758",
   "metadata": {},
   "outputs": [
    {
     "data": {
      "text/plain": [
       "['watermelon', 'watermelon', 'guava', 'chery', 'banana', 'banana', 'avocado']"
      ]
     },
     "execution_count": 367,
     "metadata": {},
     "output_type": "execute_result"
    }
   ],
   "source": [
    "fruits"
   ]
  },
  {
   "cell_type": "code",
   "execution_count": 369,
   "id": "ffc49cb3-6fa1-46b1-be6b-80b2f24a9e85",
   "metadata": {},
   "outputs": [
    {
     "name": "stdout",
     "output_type": "stream",
     "text": [
      "[]\n"
     ]
    }
   ],
   "source": [
    "fruits.clear() ## remove all the items from the list\n",
    "\n",
    "print(fruits)"
   ]
  },
  {
   "cell_type": "code",
   "execution_count": 375,
   "id": "1cb4fb26-414c-4be6-b3c2-3a4ebb2e421e",
   "metadata": {},
   "outputs": [],
   "source": [
    "## slicing list\n",
    "numbers = [1,2,3,4,5,6,7,8,9,10]"
   ]
  },
  {
   "cell_type": "code",
   "execution_count": 377,
   "id": "f2e2a3b6-37e1-4387-9174-72b50d93aae5",
   "metadata": {},
   "outputs": [
    {
     "data": {
      "text/plain": [
       "[1, 2, 3, 4, 5, 6, 7, 8, 9, 10]"
      ]
     },
     "execution_count": 377,
     "metadata": {},
     "output_type": "execute_result"
    }
   ],
   "source": [
    "numbers"
   ]
  },
  {
   "cell_type": "code",
   "execution_count": 381,
   "id": "a5e3add1-a0b5-446b-b994-6c77523f4998",
   "metadata": {},
   "outputs": [
    {
     "name": "stdout",
     "output_type": "stream",
     "text": [
      "1\n",
      "2\n",
      "3\n",
      "4\n",
      "5\n",
      "6\n",
      "7\n",
      "8\n",
      "9\n",
      "10\n"
     ]
    }
   ],
   "source": [
    "## Iterating over the list\n",
    "for number in numbers:\n",
    "    print(number)"
   ]
  },
  {
   "cell_type": "code",
   "execution_count": 385,
   "id": "c8df29ab-30f7-4619-b552-fd9f760d4590",
   "metadata": {},
   "outputs": [
    {
     "name": "stdout",
     "output_type": "stream",
     "text": [
      "0 1\n",
      "1 2\n",
      "2 3\n",
      "3 4\n",
      "4 5\n",
      "5 6\n",
      "6 7\n",
      "7 8\n",
      "8 9\n",
      "9 10\n"
     ]
    }
   ],
   "source": [
    "## Iterating with index\n",
    "for index, number in enumerate(numbers):\n",
    "    print(index, number)"
   ]
  },
  {
   "cell_type": "code",
   "execution_count": 389,
   "id": "dd507072-8cbd-484c-9e3b-f926e51905e3",
   "metadata": {},
   "outputs": [
    {
     "data": {
      "text/plain": [
       "1"
      ]
     },
     "execution_count": 389,
     "metadata": {},
     "output_type": "execute_result"
    }
   ],
   "source": [
    "numbers.count(2)"
   ]
  },
  {
   "cell_type": "code",
   "execution_count": 391,
   "id": "655f92a9-46a0-46fc-b302-fbbd35751590",
   "metadata": {},
   "outputs": [
    {
     "data": {
      "text/plain": [
       "10"
      ]
     },
     "execution_count": 391,
     "metadata": {},
     "output_type": "execute_result"
    }
   ],
   "source": [
    "len(numbers)"
   ]
  },
  {
   "cell_type": "code",
   "execution_count": 393,
   "id": "eaca73ca-5346-4c55-86c3-2beba06e4421",
   "metadata": {},
   "outputs": [
    {
     "name": "stdout",
     "output_type": "stream",
     "text": [
      "[1, 9, 25, 49, 81]\n"
     ]
    }
   ],
   "source": [
    "## List comprehension\n",
    "lst=[]\n",
    "for x in range(1,11,2):\n",
    "    lst.append(x**2)\n",
    "\n",
    "print(lst)"
   ]
  },
  {
   "cell_type": "code",
   "execution_count": 395,
   "id": "351da72b-38bc-4715-8292-891843657d80",
   "metadata": {},
   "outputs": [
    {
     "data": {
      "text/plain": [
       "[1, 27, 125, 343, 729]"
      ]
     },
     "execution_count": 395,
     "metadata": {},
     "output_type": "execute_result"
    }
   ],
   "source": [
    "[x**3 for x in range(1,10,2)]"
   ]
  },
  {
   "cell_type": "markdown",
   "id": "1c2e895e-197e-466d-87e8-62427b83671a",
   "metadata": {},
   "source": [
    "# Tuples"
   ]
  },
  {
   "cell_type": "code",
   "execution_count": 398,
   "id": "a4740030-3d76-4c06-b6d8-e54f93758f80",
   "metadata": {},
   "outputs": [
    {
     "name": "stdout",
     "output_type": "stream",
     "text": [
      "()\n",
      "<class 'tuple'>\n"
     ]
    }
   ],
   "source": [
    "## creating a tuple\n",
    "empty_tuple=()\n",
    "print(empty_tuple)\n",
    "print(type(empty_tuple))"
   ]
  },
  {
   "cell_type": "code",
   "execution_count": 400,
   "id": "61902867-ca7c-447d-ad76-d9a6bfdbf795",
   "metadata": {},
   "outputs": [
    {
     "name": "stdout",
     "output_type": "stream",
     "text": [
      "<class 'list'>\n"
     ]
    }
   ],
   "source": [
    "lst=list() ## []\n",
    "print(type(lst))"
   ]
  },
  {
   "cell_type": "code",
   "execution_count": 402,
   "id": "80f34d56-65ce-4223-bf23-f397ddc4bb70",
   "metadata": {},
   "outputs": [
    {
     "name": "stdout",
     "output_type": "stream",
     "text": [
      "<class 'tuple'>\n"
     ]
    }
   ],
   "source": [
    "tpl=tuple()\n",
    "print(type(tpl))\n"
   ]
  },
  {
   "cell_type": "code",
   "execution_count": 406,
   "id": "4ea86107-3be5-413f-a44b-2f444f402999",
   "metadata": {},
   "outputs": [
    {
     "name": "stdout",
     "output_type": "stream",
     "text": [
      "<class 'tuple'>\n"
     ]
    }
   ],
   "source": [
    "tpl1 = (1,2,3,4,5)\n",
    "print(type(tpl1))\n"
   ]
  },
  {
   "cell_type": "code",
   "execution_count": 408,
   "id": "b6c377c6-7830-4d72-9b06-386c7f740c96",
   "metadata": {},
   "outputs": [
    {
     "data": {
      "text/plain": [
       "[1, 2, 3, 4, 5]"
      ]
     },
     "execution_count": 408,
     "metadata": {},
     "output_type": "execute_result"
    }
   ],
   "source": [
    "lst = [1,2,3,4,5]\n",
    "lst\n"
   ]
  },
  {
   "cell_type": "code",
   "execution_count": 410,
   "id": "5b8820a0-f078-4041-bb23-9d0b5de317ed",
   "metadata": {},
   "outputs": [
    {
     "data": {
      "text/plain": [
       "(1, 2, 3, 4, 5)"
      ]
     },
     "execution_count": 410,
     "metadata": {},
     "output_type": "execute_result"
    }
   ],
   "source": [
    "numbers=tuple(lst)\n",
    "numbers\n"
   ]
  },
  {
   "cell_type": "code",
   "execution_count": 412,
   "id": "ff7e1b2c-d630-4021-a2af-293d76f1c612",
   "metadata": {},
   "outputs": [
    {
     "data": {
      "text/plain": [
       "[1, 2, 3, 4, 5]"
      ]
     },
     "execution_count": 412,
     "metadata": {},
     "output_type": "execute_result"
    }
   ],
   "source": [
    "list(numbers)"
   ]
  },
  {
   "cell_type": "code",
   "execution_count": 414,
   "id": "63941069-14c3-4004-abd9-cc9c8e5351ca",
   "metadata": {},
   "outputs": [
    {
     "name": "stdout",
     "output_type": "stream",
     "text": [
      "(1, 'Hello World', 3.14, True)\n"
     ]
    }
   ],
   "source": [
    "mixed_tuple=(1,\"Hello World\",3.14, True)\n",
    "print(mixed_tuple)\n"
   ]
  },
  {
   "cell_type": "code",
   "execution_count": 416,
   "id": "26c35f4a-64ab-4458-91ce-21d894784d2c",
   "metadata": {},
   "outputs": [
    {
     "data": {
      "text/plain": [
       "(1, 2, 3, 4, 5)"
      ]
     },
     "execution_count": 416,
     "metadata": {},
     "output_type": "execute_result"
    }
   ],
   "source": [
    "## Accessing Tuple Elements\n",
    "numbers\n"
   ]
  },
  {
   "cell_type": "code",
   "execution_count": 418,
   "id": "3962778d-7659-4d5f-8231-bc6b78b78dac",
   "metadata": {},
   "outputs": [
    {
     "name": "stdout",
     "output_type": "stream",
     "text": [
      "3\n",
      "5\n"
     ]
    }
   ],
   "source": [
    "print(numbers[2])\n",
    "print(numbers[-1])"
   ]
  },
  {
   "cell_type": "code",
   "execution_count": 422,
   "id": "7cf2cc19-ba88-4e35-b19b-51bbd000458c",
   "metadata": {},
   "outputs": [
    {
     "data": {
      "text/plain": [
       "(1, 2, 3, 4)"
      ]
     },
     "execution_count": 422,
     "metadata": {},
     "output_type": "execute_result"
    }
   ],
   "source": [
    "numbers[0:4]"
   ]
  },
  {
   "cell_type": "raw",
   "id": "4dfd8308-ed9a-4bb4-b9d7-44c516318fd6",
   "metadata": {},
   "source": [
    "numbers[::-1]\n"
   ]
  },
  {
   "cell_type": "code",
   "execution_count": 426,
   "id": "ddc44c9b-294a-4c69-bb31-9c6115f2d851",
   "metadata": {},
   "outputs": [
    {
     "data": {
      "text/plain": [
       "(1, 2, 3, 4, 5)"
      ]
     },
     "execution_count": 426,
     "metadata": {},
     "output_type": "execute_result"
    }
   ],
   "source": [
    "numbers"
   ]
  },
  {
   "cell_type": "code",
   "execution_count": 428,
   "id": "63a7b946-0187-46d5-8c2c-12c0a289a819",
   "metadata": {},
   "outputs": [
    {
     "data": {
      "text/plain": [
       "(1, 'Hello World', 3.14, True)"
      ]
     },
     "execution_count": 428,
     "metadata": {},
     "output_type": "execute_result"
    }
   ],
   "source": [
    "mixed_tuple"
   ]
  },
  {
   "cell_type": "code",
   "execution_count": 430,
   "id": "c528f6ea-06b7-423b-925a-ec81ab682fc0",
   "metadata": {},
   "outputs": [
    {
     "name": "stdout",
     "output_type": "stream",
     "text": [
      "(1, 2, 3, 4, 5, 1, 'Hello World', 3.14, True)\n"
     ]
    }
   ],
   "source": [
    "## tuple operations\n",
    "\n",
    "concatenation_tuple=numbers + mixed_tuple\n",
    "print(concatenation_tuple)\n"
   ]
  },
  {
   "cell_type": "code",
   "execution_count": 432,
   "id": "e7fda406-bf0b-448f-bf81-5f6db1c2f0c4",
   "metadata": {},
   "outputs": [
    {
     "data": {
      "text/plain": [
       "(1, 'Hello World', 3.14, True)"
      ]
     },
     "execution_count": 432,
     "metadata": {},
     "output_type": "execute_result"
    }
   ],
   "source": [
    "mixed_tuple"
   ]
  },
  {
   "cell_type": "code",
   "execution_count": 434,
   "id": "52edc908-a3db-4374-8486-8eb855df1d05",
   "metadata": {},
   "outputs": [
    {
     "data": {
      "text/plain": [
       "(1,\n",
       " 'Hello World',\n",
       " 3.14,\n",
       " True,\n",
       " 1,\n",
       " 'Hello World',\n",
       " 3.14,\n",
       " True,\n",
       " 1,\n",
       " 'Hello World',\n",
       " 3.14,\n",
       " True)"
      ]
     },
     "execution_count": 434,
     "metadata": {},
     "output_type": "execute_result"
    }
   ],
   "source": [
    "mixed_tuple*3"
   ]
  },
  {
   "cell_type": "code",
   "execution_count": 436,
   "id": "0ee41941-af42-43e5-b0cf-1f7c672ee000",
   "metadata": {},
   "outputs": [
    {
     "data": {
      "text/plain": [
       "(1, 2, 3, 4, 5)"
      ]
     },
     "execution_count": 436,
     "metadata": {},
     "output_type": "execute_result"
    }
   ],
   "source": [
    "numbers"
   ]
  },
  {
   "cell_type": "code",
   "execution_count": 446,
   "id": "199e4242-d2da-457a-8c2e-6126fb7d3f75",
   "metadata": {},
   "outputs": [
    {
     "name": "stdout",
     "output_type": "stream",
     "text": [
      "[1, 2, 3, 4, 5]\n"
     ]
    }
   ],
   "source": [
    "# Imutable nature of tuple\n",
    "\n",
    "lst=[1,2,3,4,5] #list\n",
    "print(lst)"
   ]
  },
  {
   "cell_type": "code",
   "execution_count": 448,
   "id": "5447eaa7-56c2-4731-901b-9744b9205606",
   "metadata": {},
   "outputs": [
    {
     "name": "stdout",
     "output_type": "stream",
     "text": [
      "[1, 'Deepak', 3, 4, 5]\n"
     ]
    }
   ],
   "source": [
    "lst[1]=\"Deepak\" #Mutable\n",
    "print(lst)"
   ]
  },
  {
   "cell_type": "code",
   "execution_count": 452,
   "id": "96c21626-bb59-4df9-80a2-3ad70025d851",
   "metadata": {},
   "outputs": [
    {
     "name": "stdout",
     "output_type": "stream",
     "text": [
      "1\n",
      "2\n"
     ]
    }
   ],
   "source": [
    "## tuple Methods\n",
    "\n",
    "print(numbers.count(1))\n",
    "print(numbers.index(3))\n",
    "      "
   ]
  },
  {
   "cell_type": "code",
   "execution_count": 462,
   "id": "655e88f8-b715-413d-83c2-27f4a368aa01",
   "metadata": {},
   "outputs": [
    {
     "name": "stdout",
     "output_type": "stream",
     "text": [
      "(1, 'hello', 3.14)\n"
     ]
    }
   ],
   "source": [
    "## packing and unpacking rule\n",
    "\n",
    "## Packing\n",
    "packed_tuple = 1, \"hello\", 3.14\n",
    "print(packed_tuple)"
   ]
  },
  {
   "cell_type": "code",
   "execution_count": 464,
   "id": "3c48f551-d903-4953-b5cf-591c8641e969",
   "metadata": {},
   "outputs": [
    {
     "name": "stdout",
     "output_type": "stream",
     "text": [
      "1\n",
      "hello\n",
      "3.14\n"
     ]
    }
   ],
   "source": [
    "## Unpacking a tuple\n",
    "\n",
    "a, b, c = packed_tuple \n",
    "\n",
    "print(a)\n",
    "print(b)\n",
    "print(c)"
   ]
  },
  {
   "cell_type": "code",
   "execution_count": 466,
   "id": "c9684ef4-6cab-4f91-b7d5-d1f7a2dc8944",
   "metadata": {},
   "outputs": [
    {
     "name": "stdout",
     "output_type": "stream",
     "text": [
      "1\n",
      "[2, 3, 4, 5]\n",
      "6\n"
     ]
    }
   ],
   "source": [
    "## Unpacking with *\n",
    "\n",
    "numbers = (1,2,3,4,5,6)\n",
    "first, *middle, last = numbers\n",
    "print(first)\n",
    "print(middle)\n",
    "print(last)\n"
   ]
  },
  {
   "cell_type": "markdown",
   "id": "7dd15813-cfc8-438b-8300-3a186f01c811",
   "metadata": {},
   "source": [
    "# Nested List And Tuples"
   ]
  },
  {
   "cell_type": "code",
   "execution_count": 469,
   "id": "06e6c64f-2cbb-4478-837e-bb10dae85dc9",
   "metadata": {},
   "outputs": [],
   "source": [
    "## Nested list\n",
    "lst=[[1,2,3,4],[6,7,8,9],[1,\"hello\",3.14,\"c\"]]"
   ]
  },
  {
   "cell_type": "code",
   "execution_count": 471,
   "id": "c7cdd624-ef46-4228-a469-bf17fc31d384",
   "metadata": {},
   "outputs": [
    {
     "data": {
      "text/plain": [
       "[[1, 2, 3, 4], [6, 7, 8, 9], [1, 'hello', 3.14, 'c']]"
      ]
     },
     "execution_count": 471,
     "metadata": {},
     "output_type": "execute_result"
    }
   ],
   "source": [
    "lst"
   ]
  },
  {
   "cell_type": "code",
   "execution_count": 473,
   "id": "26e8c3d9-b285-4bcc-98c0-f9230fa1d31d",
   "metadata": {},
   "outputs": [
    {
     "data": {
      "text/plain": [
       "[1, 2, 3, 4]"
      ]
     },
     "execution_count": 473,
     "metadata": {},
     "output_type": "execute_result"
    }
   ],
   "source": [
    "lst[0]"
   ]
  },
  {
   "cell_type": "code",
   "execution_count": 475,
   "id": "acdf743f-f9a9-4e74-80c1-35e391396513",
   "metadata": {},
   "outputs": [],
   "source": [
    "lst=[[1,2,3,4],[6,7,8,9],(1,\"hello\",3.14,\"c\")]"
   ]
  },
  {
   "cell_type": "code",
   "execution_count": 477,
   "id": "cf9f7d80-5526-44e4-b48c-afdbe1cbc7b4",
   "metadata": {},
   "outputs": [
    {
     "data": {
      "text/plain": [
       "[[1, 2, 3, 4], [6, 7, 8, 9], (1, 'hello', 3.14, 'c')]"
      ]
     },
     "execution_count": 477,
     "metadata": {},
     "output_type": "execute_result"
    }
   ],
   "source": [
    "lst"
   ]
  },
  {
   "cell_type": "code",
   "execution_count": 479,
   "id": "15a2f3d3-c655-4701-9275-e33642f83823",
   "metadata": {},
   "outputs": [
    {
     "data": {
      "text/plain": [
       "(1, 'hello', 3.14)"
      ]
     },
     "execution_count": 479,
     "metadata": {},
     "output_type": "execute_result"
    }
   ],
   "source": [
    "lst[2][0:3]"
   ]
  },
  {
   "cell_type": "code",
   "execution_count": 485,
   "id": "b4a561ae-6c66-4a88-ac63-f5df32bdb9be",
   "metadata": {},
   "outputs": [
    {
     "name": "stdout",
     "output_type": "stream",
     "text": [
      "(1, 1, 2, 3, 2)\n",
      "c\n"
     ]
    }
   ],
   "source": [
    "nested_tuple = ((1,1,2,3,2), (\"a\", \"b\", \"c\"), (True, False))\n",
    "\n",
    "# access the element inside the tuple\n",
    "print(nested_tuple[0])\n",
    "print(nested_tuple[1][2])"
   ]
  },
  {
   "cell_type": "code",
   "execution_count": 487,
   "id": "b5dc7f24-0cc9-43f5-94b4-3c7fd2c3f118",
   "metadata": {},
   "outputs": [
    {
     "name": "stdout",
     "output_type": "stream",
     "text": [
      "1 1 2 3 2 \n",
      "a b c \n",
      "True False \n"
     ]
    }
   ],
   "source": [
    "# iterating over nested tuples\n",
    "for sub_tuple in nested_tuple:\n",
    "    for item in sub_tuple:\n",
    "        print(item,end=\" \")\n",
    "    print()"
   ]
  },
  {
   "cell_type": "markdown",
   "id": "25528d2f-572b-45bf-b005-f6754ec717fa",
   "metadata": {},
   "source": [
    "# Dictionaries"
   ]
  },
  {
   "cell_type": "code",
   "execution_count": 492,
   "id": "5ae3b8a5-303b-4295-ae1a-c57833a64945",
   "metadata": {},
   "outputs": [
    {
     "name": "stdout",
     "output_type": "stream",
     "text": [
      "<class 'dict'>\n"
     ]
    }
   ],
   "source": [
    "## creating dictionaries\n",
    "empty_dict = {}\n",
    "print(type(empty_dict))"
   ]
  },
  {
   "cell_type": "code",
   "execution_count": 496,
   "id": "5b2e31cd-e21a-449c-83b5-71973bcd2ad9",
   "metadata": {},
   "outputs": [
    {
     "name": "stdout",
     "output_type": "stream",
     "text": [
      "<class 'dict'>\n"
     ]
    }
   ],
   "source": [
    "empty_dict=dict()\n",
    "print(type(empty_dict))"
   ]
  },
  {
   "cell_type": "code",
   "execution_count": 498,
   "id": "a88ec205-7326-4ba9-b30b-7760dacf6772",
   "metadata": {},
   "outputs": [
    {
     "name": "stdout",
     "output_type": "stream",
     "text": [
      "{'name': 'Sunny', 'age': 17, 'grade': 11}\n",
      "<class 'dict'>\n"
     ]
    }
   ],
   "source": [
    "student={\"name\":\"Sunny\", \"age\":17, \"grade\":11}\n",
    "print(student) # Accessing Dictionary elements\n",
    "print(type(student))"
   ]
  },
  {
   "cell_type": "code",
   "execution_count": 500,
   "id": "2e57f845-2e29-410f-a84b-d77dd01feb9d",
   "metadata": {},
   "outputs": [
    {
     "name": "stdout",
     "output_type": "stream",
     "text": [
      "{'name': 24, 'age': 17}\n"
     ]
    }
   ],
   "source": [
    "# Single key is always used\n",
    "student={\"name\":\"Sunny\", \"age\":17, \"name\":24}\n",
    "print(student)"
   ]
  },
  {
   "cell_type": "code",
   "execution_count": 502,
   "id": "ec29ceae-4e3a-4e04-80f4-57a4a2998224",
   "metadata": {},
   "outputs": [
    {
     "name": "stdout",
     "output_type": "stream",
     "text": [
      "{'name': 'Honey', 'age': 32, 'grade': 'A'}\n"
     ]
    }
   ],
   "source": [
    "## accessing Dictionary Elements\n",
    "student={\"name\":\"Honey\",\"age\":32,\"grade\":'A'}\n",
    "print(student)"
   ]
  },
  {
   "cell_type": "code",
   "execution_count": 504,
   "id": "db014e93-889d-46d9-94bc-5ac2201c0a4c",
   "metadata": {},
   "outputs": [
    {
     "name": "stdout",
     "output_type": "stream",
     "text": [
      "A\n",
      "32\n"
     ]
    }
   ],
   "source": [
    "## Accessing Dictionary elements\n",
    "print(student['grade'])\n",
    "print(student['age'])"
   ]
  },
  {
   "cell_type": "code",
   "execution_count": 506,
   "id": "84c50433-ec7d-486a-9f9c-7ae528346177",
   "metadata": {},
   "outputs": [
    {
     "name": "stdout",
     "output_type": "stream",
     "text": [
      "A\n"
     ]
    }
   ],
   "source": [
    "## Accessing using get() method\n",
    "print(student.get('grade'))\n"
   ]
  },
  {
   "cell_type": "code",
   "execution_count": 508,
   "id": "fa0e711c-6327-40c6-b644-fa3fc05e9ea1",
   "metadata": {},
   "outputs": [
    {
     "name": "stdout",
     "output_type": "stream",
     "text": [
      "None\n"
     ]
    }
   ],
   "source": [
    "print(student.get('last_name'))"
   ]
  },
  {
   "cell_type": "code",
   "execution_count": 510,
   "id": "881b72ca-6f15-44cc-8bf4-8d75daea5df0",
   "metadata": {},
   "outputs": [
    {
     "name": "stdout",
     "output_type": "stream",
     "text": [
      "Not Available\n"
     ]
    }
   ],
   "source": [
    "print(student.get('last_name',\"Not Available\"))"
   ]
  },
  {
   "cell_type": "code",
   "execution_count": 512,
   "id": "47215839-b93b-43d3-8bb0-a6734cd7e25f",
   "metadata": {},
   "outputs": [
    {
     "name": "stdout",
     "output_type": "stream",
     "text": [
      "{'name': 'Honey', 'age': 32, 'grade': 'A'}\n"
     ]
    }
   ],
   "source": [
    "# Modifying Dictionary Elements\n",
    "\n",
    "## Dictionary are mutable,so you can add, update or delete elements\n",
    "\n",
    "print(student)"
   ]
  },
  {
   "cell_type": "code",
   "execution_count": 514,
   "id": "b668f901-e969-4145-89ef-dbf47f844f90",
   "metadata": {},
   "outputs": [
    {
     "name": "stdout",
     "output_type": "stream",
     "text": [
      "{'name': 'Honey', 'age': 33, 'grade': 'A'}\n"
     ]
    }
   ],
   "source": [
    "student[\"age\"]=33 ##update value for the key\n",
    "print(student)"
   ]
  },
  {
   "cell_type": "code",
   "execution_count": 516,
   "id": "baefeb93-5245-4c88-8c69-8ee9e645c308",
   "metadata": {},
   "outputs": [
    {
     "name": "stdout",
     "output_type": "stream",
     "text": [
      "{'name': 'Honey', 'age': 33, 'grade': 'A', 'address': 'India'}\n"
     ]
    }
   ],
   "source": [
    "student[\"address\"]=\"India\" ## added a new key and value\n",
    "print(student)\n"
   ]
  },
  {
   "cell_type": "code",
   "execution_count": 518,
   "id": "ba4323db-820b-45f8-901a-780897b6ab85",
   "metadata": {},
   "outputs": [
    {
     "name": "stdout",
     "output_type": "stream",
     "text": [
      "{'name': 'Honey', 'age': 33, 'address': 'India'}\n"
     ]
    }
   ],
   "source": [
    "del student['grade'] ## delete key and value pair\n",
    "print(student)"
   ]
  },
  {
   "cell_type": "code",
   "execution_count": 520,
   "id": "6f747791-8815-43c0-be80-b72e48485923",
   "metadata": {},
   "outputs": [
    {
     "name": "stdout",
     "output_type": "stream",
     "text": [
      "dict_keys(['name', 'age', 'address'])\n",
      "dict_values(['Honey', 33, 'India'])\n",
      "dict_items([('name', 'Honey'), ('age', 33), ('address', 'India')])\n"
     ]
    }
   ],
   "source": [
    "## Dictionary methods\n",
    "keys=student.keys() ##get all the keys\n",
    "print(keys)\n",
    "values=student.values() ##get all values\n",
    "print(values)\n",
    "items=student.items() ##get all key value pairs\n",
    "print(items)"
   ]
  },
  {
   "cell_type": "code",
   "execution_count": 522,
   "id": "57a2b51f-ef64-455a-88dd-aa3deb224604",
   "metadata": {},
   "outputs": [
    {
     "data": {
      "text/plain": [
       "dict_keys(['name', 'age', 'address'])"
      ]
     },
     "execution_count": 522,
     "metadata": {},
     "output_type": "execute_result"
    }
   ],
   "source": [
    "student.keys()"
   ]
  },
  {
   "cell_type": "code",
   "execution_count": 524,
   "id": "93017b26-4f2f-4b49-9832-aef99a5837cd",
   "metadata": {},
   "outputs": [
    {
     "data": {
      "text/plain": [
       "{'name': 'Honey', 'age': 33, 'address': 'India'}"
      ]
     },
     "execution_count": 524,
     "metadata": {},
     "output_type": "execute_result"
    }
   ],
   "source": [
    "student"
   ]
  },
  {
   "cell_type": "markdown",
   "id": "3dd5a0be-ec27-4df8-b6ac-28df0e4ee72a",
   "metadata": {},
   "source": [
    "# Shallow Copy"
   ]
  },
  {
   "cell_type": "code",
   "execution_count": 529,
   "id": "fb710d9e-a502-4532-8351-c90a21c9e8d8",
   "metadata": {},
   "outputs": [],
   "source": [
    "import copy\n",
    "student = {'name': 'Honey', 'subjects': ['Math', 'Science']}\n",
    "student_copy = copy.copy(student)"
   ]
  },
  {
   "cell_type": "code",
   "execution_count": 531,
   "id": "90a332db-7347-4cca-abba-001415427f80",
   "metadata": {},
   "outputs": [
    {
     "data": {
      "text/plain": [
       "({'name': 'Honey', 'subjects': ['Math', 'Science']},\n",
       " {'name': 'Honey', 'subjects': ['Math', 'Science']})"
      ]
     },
     "execution_count": 531,
     "metadata": {},
     "output_type": "execute_result"
    }
   ],
   "source": [
    "student, student_copy"
   ]
  },
  {
   "cell_type": "code",
   "execution_count": 535,
   "id": "a00fd7fc-512c-4417-b4f8-2ab816ae1d24",
   "metadata": {},
   "outputs": [
    {
     "name": "stdout",
     "output_type": "stream",
     "text": [
      "{'name': 'Honey', 'subjects': ['Math', 'Science', 'English', 'English']}\n",
      "{'name': 'Honey', 'subjects': ['Math', 'Science', 'English', 'English']}\n"
     ]
    }
   ],
   "source": [
    "# Modify the nested list\n",
    "\n",
    "student['subjects'].append('English')\n",
    "print(student)\n",
    "print(student_copy)"
   ]
  },
  {
   "cell_type": "markdown",
   "id": "5847d7e6-a906-4b92-aca8-e43e1dcafa1c",
   "metadata": {},
   "source": [
    "# Deep Copy"
   ]
  },
  {
   "cell_type": "code",
   "execution_count": 538,
   "id": "748533a2-d705-4d6c-b19c-c5897d8f2acb",
   "metadata": {},
   "outputs": [],
   "source": [
    "import copy\n",
    "student = {'name': 'Honey', 'subjects': ['Math', 'Science']}\n",
    "student_copy2 = copy.deepcopy(student)"
   ]
  },
  {
   "cell_type": "code",
   "execution_count": 544,
   "id": "41c7ceaa-3453-47a5-b7f6-7692c778b895",
   "metadata": {},
   "outputs": [
    {
     "data": {
      "text/plain": [
       "({'name': 'Honey', 'subjects': ['Math', 'Science', 'English']},\n",
       " {'name': 'Honey', 'subjects': ['Math', 'Science']})"
      ]
     },
     "execution_count": 544,
     "metadata": {},
     "output_type": "execute_result"
    }
   ],
   "source": [
    "student, student_copy2"
   ]
  },
  {
   "cell_type": "code",
   "execution_count": 550,
   "id": "a7cda353-4e8e-4565-95ee-613e05f78c01",
   "metadata": {},
   "outputs": [
    {
     "name": "stdout",
     "output_type": "stream",
     "text": [
      "{'name': 'Honey', 'subjects': ['Math', 'Science', 'English', 'English', 'English', 'English']}\n",
      "{'name': 'Honey', 'subjects': ['Math', 'Science']}\n"
     ]
    }
   ],
   "source": [
    "# Modify the nested list\n",
    "student['subjects'].append('English')\n",
    "print(student)\n",
    "print(student_copy2)"
   ]
  },
  {
   "cell_type": "code",
   "execution_count": 552,
   "id": "76097923-e9c5-40df-866e-954c04b45a1e",
   "metadata": {},
   "outputs": [
    {
     "name": "stdout",
     "output_type": "stream",
     "text": [
      "name\n",
      "subjects\n"
     ]
    }
   ],
   "source": [
    "## Iterating over keys\n",
    "for keys in student.keys():\n",
    " print(keys)"
   ]
  },
  {
   "cell_type": "code",
   "execution_count": 556,
   "id": "d7793296-f5c7-4c5f-aedc-4a18032bf241",
   "metadata": {},
   "outputs": [
    {
     "name": "stdout",
     "output_type": "stream",
     "text": [
      "Honey\n",
      "['Math', 'Science', 'English', 'English', 'English', 'English']\n"
     ]
    }
   ],
   "source": [
    "# Iterate over values\n",
    "for value in student.values():\n",
    "    print(value)"
   ]
  },
  {
   "cell_type": "code",
   "execution_count": 558,
   "id": "26410b91-bc43-4b78-af32-ed98addca79e",
   "metadata": {},
   "outputs": [
    {
     "name": "stdout",
     "output_type": "stream",
     "text": [
      "name:Honey\n",
      "subjects:['Math', 'Science', 'English', 'English', 'English', 'English']\n"
     ]
    }
   ],
   "source": [
    "## Iterate over key value pairs\n",
    "for key,value in student.items():\n",
    " print(f\"{key}:{value}\")"
   ]
  },
  {
   "cell_type": "code",
   "execution_count": 562,
   "id": "1b5b20f1-b560-44cd-b2c1-2f2815604ced",
   "metadata": {},
   "outputs": [
    {
     "name": "stdout",
     "output_type": "stream",
     "text": [
      "{'student1': {'name': 'Sunny', 'age': 32}, 'student2': {'name': 'Peter', 'age': 35}}\n"
     ]
    }
   ],
   "source": [
    "## Nested Disctionaries\n",
    "students={\n",
    " \"student1\":{\"name\":\"Sunny\",\"age\":32},\n",
    " \"student2\":{\"name\":\"Peter\",\"age\":35}\n",
    "}\n",
    "print(students)"
   ]
  },
  {
   "cell_type": "code",
   "execution_count": 564,
   "id": "705ac578-449f-469d-9865-dfd2d6a72193",
   "metadata": {},
   "outputs": [
    {
     "name": "stdout",
     "output_type": "stream",
     "text": [
      "Peter\n",
      "35\n"
     ]
    }
   ],
   "source": [
    "## Access nested dictionaries elements\n",
    "\n",
    "print(students[\"student2\"][\"name\"])\n",
    "print(students[\"student2\"][\"age\"])"
   ]
  },
  {
   "cell_type": "code",
   "execution_count": 566,
   "id": "75ce49ba-2b17-4083-8b6f-bf2d79c24cee",
   "metadata": {},
   "outputs": [
    {
     "data": {
      "text/plain": [
       "dict_items([('student1', {'name': 'Sunny', 'age': 32}), ('student2', {'name': 'Peter', 'age': 35})])"
      ]
     },
     "execution_count": 566,
     "metadata": {},
     "output_type": "execute_result"
    }
   ],
   "source": [
    "students.items()"
   ]
  },
  {
   "cell_type": "markdown",
   "id": "f924d9bb-532b-4ae7-91ab-d90048f22b49",
   "metadata": {},
   "source": [
    "# Functions in pyton"
   ]
  },
  {
   "cell_type": "code",
   "execution_count": 569,
   "id": "71907650-c295-438b-bef4-88f9c988e5fb",
   "metadata": {},
   "outputs": [],
   "source": [
    "## syntax\n",
    "\n",
    "def function_name(parameters):\n",
    " \"\"\"Docstring\"\"\"\n",
    " # Function body\n",
    " return expression"
   ]
  },
  {
   "cell_type": "code",
   "execution_count": 573,
   "id": "498f7ce5-8795-4f54-a91b-a314ae0911f7",
   "metadata": {},
   "outputs": [
    {
     "name": "stdout",
     "output_type": "stream",
     "text": [
      "the number is odd\n"
     ]
    }
   ],
   "source": [
    "## why functions?\n",
    "num=29\n",
    "if num%2==0:\n",
    " print(\"the number is even\")\n",
    "else:\n",
    " print(\"the number is odd\")\n"
   ]
  },
  {
   "cell_type": "code",
   "execution_count": 579,
   "id": "78528dc6-1ed4-400c-bf43-e61fddd298ae",
   "metadata": {},
   "outputs": [],
   "source": [
    "def even_or_odd(num):\n",
    " \"\"\"This function finds even or odd\"\"\"\n",
    " if num%2==0:\n",
    "     print(\"the number is even\")\n",
    " else:\n",
    "    print(\"the number is odd\")"
   ]
  },
  {
   "cell_type": "code",
   "execution_count": 581,
   "id": "4d072732-db18-447b-8889-a1b3b7a8f9cd",
   "metadata": {},
   "outputs": [
    {
     "name": "stdout",
     "output_type": "stream",
     "text": [
      "the number is even\n"
     ]
    }
   ],
   "source": [
    "## Call this function\n",
    "even_or_odd(24)"
   ]
  },
  {
   "cell_type": "code",
   "execution_count": 587,
   "id": "77543b77-8911-4be2-b9ab-2d75bdfe5ad0",
   "metadata": {},
   "outputs": [
    {
     "name": "stdin",
     "output_type": "stream",
     "text": [
      "Enter the number 1 3\n",
      "Enter the number 2 45\n"
     ]
    },
    {
     "name": "stdout",
     "output_type": "stream",
     "text": [
      "The result of 3 and 45 is 48\n",
      "The result of 3 and 45 is 48\n"
     ]
    }
   ],
   "source": [
    "## function with multiple parameters\n",
    "def add(a,b):\n",
    " return a+b\n",
    "a = int(input(\"Enter the number 1\"))\n",
    "b = int(input(\"Enter the number 2\"))\n",
    "result=add(a, b)\n",
    "print(\"The result of\",a, \"and\", b, \"is\",result)\n",
    "#or\n",
    "print(f\"The result of {a} and {b} is {result}\") #fstrings"
   ]
  },
  {
   "cell_type": "code",
   "execution_count": 589,
   "id": "0d0d8a7d-f08c-41f0-a727-e2701873021f",
   "metadata": {},
   "outputs": [
    {
     "name": "stdout",
     "output_type": "stream",
     "text": [
      "Hello Deepak Welcome To the paradise\n"
     ]
    }
   ],
   "source": [
    "## Default Parameters\n",
    "\n",
    "def greet(name):\n",
    " print(f\"Hello {name} Welcome To the paradise\")\n",
    "greet(\"Deepak\")"
   ]
  },
  {
   "cell_type": "code",
   "execution_count": 591,
   "id": "62abe1d0-1ae4-42f1-b31c-c7f63f8ec453",
   "metadata": {},
   "outputs": [
    {
     "name": "stdout",
     "output_type": "stream",
     "text": [
      "Hello Deepak Welcome To the paradise\n"
     ]
    }
   ],
   "source": [
    "def greet(name=\"Guest\"):\n",
    " print(f\"Hello {name} Welcome To the paradise\")\n",
    "greet(\"Deepak\")"
   ]
  },
  {
   "cell_type": "code",
   "execution_count": 599,
   "id": "996b9fa8-4dcc-49c5-95c7-6de77683eca9",
   "metadata": {},
   "outputs": [],
   "source": [
    "## Variable Length Arguments\n",
    "\n",
    "## Positional And Keywords arguments\n",
    "def print_numbers(*Deepak):\n",
    " for number in Deepak:\n",
    "    print(number)"
   ]
  },
  {
   "cell_type": "code",
   "execution_count": 603,
   "id": "58c51c84-70cf-41d4-9962-5f6a78d92126",
   "metadata": {},
   "outputs": [
    {
     "name": "stdout",
     "output_type": "stream",
     "text": [
      "1\n",
      "2\n",
      "3\n",
      "4\n",
      "5\n",
      "6\n",
      "7\n",
      "8\n",
      "Deepak\n"
     ]
    }
   ],
   "source": [
    "print_numbers(1,2,3,4,5,6,7,8,\"Deepak\")"
   ]
  },
  {
   "cell_type": "code",
   "execution_count": 607,
   "id": "5b7e00a4-ef23-432d-bd21-59d6ef446a26",
   "metadata": {},
   "outputs": [],
   "source": [
    "## Positional arguments\n",
    "def print_numbers(*args):\n",
    " for i in args:\n",
    "    print(i)"
   ]
  },
  {
   "cell_type": "code",
   "execution_count": 609,
   "id": "c6a71ecc-c633-4d3d-8ac3-e2fd69017f8c",
   "metadata": {},
   "outputs": [
    {
     "name": "stdout",
     "output_type": "stream",
     "text": [
      "1\n",
      "2\n",
      "3\n",
      "4\n",
      "jack\n",
      "smith\n"
     ]
    }
   ],
   "source": [
    "print_numbers(1,2,3,4,\"jack\", \"smith\")"
   ]
  },
  {
   "cell_type": "code",
   "execution_count": 625,
   "id": "cd118c1c-414a-4b5e-b261-83f24c71b8ca",
   "metadata": {},
   "outputs": [],
   "source": [
    "## Example\n",
    "\n",
    "def sum_of_numbers(*args):\n",
    " sum = 0\n",
    " for i in args:\n",
    "    sum = sum + i\n",
    " return sum"
   ]
  },
  {
   "cell_type": "code",
   "execution_count": 627,
   "id": "5974e2db-211d-4b5d-af89-e3b5dab738e8",
   "metadata": {},
   "outputs": [
    {
     "data": {
      "text/plain": [
       "36"
      ]
     },
     "execution_count": 627,
     "metadata": {},
     "output_type": "execute_result"
    }
   ],
   "source": [
    "sum_of_numbers(1,2,3,4,5,6,15)"
   ]
  },
  {
   "cell_type": "code",
   "execution_count": 631,
   "id": "c1d35019-0547-47f9-8b10-7508eeea3ea8",
   "metadata": {},
   "outputs": [],
   "source": [
    "# Keywords Arguments\n",
    "\n",
    "def print_details(**kwargs):\n",
    " for key,value in kwargs.items():\n",
    "    print(f\"{key}:{value}\")"
   ]
  },
  {
   "cell_type": "code",
   "execution_count": 633,
   "id": "b2b76250-fc1a-43ff-b0a9-70281d08cc3d",
   "metadata": {},
   "outputs": [
    {
     "name": "stdout",
     "output_type": "stream",
     "text": [
      "name:Deepak\n",
      "age:20\n",
      "country:India\n"
     ]
    }
   ],
   "source": [
    "print_details(name=\"Deepak\",age=\"20\",country=\"India\")"
   ]
  },
  {
   "cell_type": "code",
   "execution_count": 646,
   "id": "11c49dcb-13f6-4bf8-a860-68af4b569199",
   "metadata": {},
   "outputs": [],
   "source": [
    "def print_details(*args,**kwargs):\n",
    " for val in args:\n",
    "    print(f\" Positional arument :{val}\")\n",
    " for key,value in kwargs.items():\n",
    "    print(f\"{key}:{value}\")"
   ]
  },
  {
   "cell_type": "code",
   "execution_count": 648,
   "id": "610e9bc4-17c2-474e-9fee-cd5e7673f9f8",
   "metadata": {},
   "outputs": [
    {
     "name": "stdout",
     "output_type": "stream",
     "text": [
      " Positional arument :1\n",
      " Positional arument :2\n",
      " Positional arument :3\n",
      " Positional arument :4\n",
      " Positional arument :Deepak\n",
      "name:Deepak\n",
      "age:20\n",
      "country:India\n"
     ]
    }
   ],
   "source": [
    "print_details(1,2,3,4,\"Deepak\",name=\"Deepak\",age=\"20\",country=\"India\")"
   ]
  },
  {
   "cell_type": "code",
   "execution_count": 660,
   "id": "5facb07e-16e8-405e-9979-55de18783e94",
   "metadata": {},
   "outputs": [
    {
     "data": {
      "text/plain": [
       "6"
      ]
     },
     "execution_count": 660,
     "metadata": {},
     "output_type": "execute_result"
    }
   ],
   "source": [
    "## Return statements\n",
    "\n",
    "def multiply(a,b):\n",
    " return a*b\n",
    "    \n",
    "multiply(2,3)"
   ]
  },
  {
   "cell_type": "code",
   "execution_count": 662,
   "id": "da6e39cd-663f-43f9-b69d-f2ba8562544c",
   "metadata": {},
   "outputs": [
    {
     "data": {
      "text/plain": [
       "(6, 2)"
      ]
     },
     "execution_count": 662,
     "metadata": {},
     "output_type": "execute_result"
    }
   ],
   "source": [
    "# Return multiple parameters\n",
    "\n",
    "def multiply(a,b):\n",
    " return a*b,a\n",
    "multiply(2,3)"
   ]
  },
  {
   "cell_type": "markdown",
   "id": "0bce88c7-853d-4597-beb7-9739bfad1a47",
   "metadata": {},
   "source": [
    "# Lambda Functions in python"
   ]
  },
  {
   "cell_type": "code",
   "execution_count": 665,
   "id": "c1de0c11-2690-4e2b-a16a-f574a2b0a01c",
   "metadata": {},
   "outputs": [
    {
     "data": {
      "text/plain": [
       "<function __main__.<lambda>(arguments)>"
      ]
     },
     "execution_count": 665,
     "metadata": {},
     "output_type": "execute_result"
    }
   ],
   "source": [
    "#Syntax\n",
    "\n",
    "lambda arguments: expression"
   ]
  },
  {
   "cell_type": "code",
   "execution_count": 667,
   "id": "dddee68f-5bbe-4502-8cf0-584581c26b72",
   "metadata": {},
   "outputs": [],
   "source": [
    "def addition(a,b):\n",
    " return a+b"
   ]
  },
  {
   "cell_type": "code",
   "execution_count": 669,
   "id": "57ce3412-71bb-48c9-bade-c6f4b1dbeaa5",
   "metadata": {},
   "outputs": [
    {
     "data": {
      "text/plain": [
       "5"
      ]
     },
     "execution_count": 669,
     "metadata": {},
     "output_type": "execute_result"
    }
   ],
   "source": [
    "addition(2,3)"
   ]
  },
  {
   "cell_type": "code",
   "execution_count": 671,
   "id": "e6013444-6f44-4aee-8310-fb5b7508286a",
   "metadata": {},
   "outputs": [
    {
     "name": "stdout",
     "output_type": "stream",
     "text": [
      "11\n"
     ]
    }
   ],
   "source": [
    "addition=lambda a,b:a+b\n",
    "type(addition)\n",
    "print(addition(5,6))"
   ]
  },
  {
   "cell_type": "code",
   "execution_count": 675,
   "id": "3e91557b-fd14-4f9b-a4e4-8b74757f0f51",
   "metadata": {},
   "outputs": [
    {
     "data": {
      "text/plain": [
       "True"
      ]
     },
     "execution_count": 675,
     "metadata": {},
     "output_type": "execute_result"
    }
   ],
   "source": [
    "def even(num):\n",
    " if num%2==0:\n",
    "   return True\n",
    " \n",
    "even(24)"
   ]
  },
  {
   "cell_type": "code",
   "execution_count": 677,
   "id": "91b9db0f-1c12-496c-ab91-69dd7a2c2a33",
   "metadata": {},
   "outputs": [
    {
     "data": {
      "text/plain": [
       "True"
      ]
     },
     "execution_count": 677,
     "metadata": {},
     "output_type": "execute_result"
    }
   ],
   "source": [
    "even1=lambda num:num%2==0\n",
    "even1(12)"
   ]
  },
  {
   "cell_type": "code",
   "execution_count": 679,
   "id": "bd89f381-92a9-4e9e-b1cb-f9095a3d4fa8",
   "metadata": {},
   "outputs": [
    {
     "data": {
      "text/plain": [
       "39"
      ]
     },
     "execution_count": 679,
     "metadata": {},
     "output_type": "execute_result"
    }
   ],
   "source": [
    "def addition(x,y,z):\n",
    " return x+y+z\n",
    "addition(12,13,14)"
   ]
  },
  {
   "cell_type": "code",
   "execution_count": 681,
   "id": "37ffc50d-8b05-4980-9272-1a18a9dcaff2",
   "metadata": {},
   "outputs": [
    {
     "data": {
      "text/plain": [
       "39"
      ]
     },
     "execution_count": 681,
     "metadata": {},
     "output_type": "execute_result"
    }
   ],
   "source": [
    "addition1=lambda x,y,z:x+y+z\n",
    "addition1(12,13,14)"
   ]
  },
  {
   "cell_type": "code",
   "execution_count": 683,
   "id": "d262643f-e2b9-416a-b87d-0d10442206ad",
   "metadata": {},
   "outputs": [
    {
     "data": {
      "text/plain": [
       "4"
      ]
     },
     "execution_count": 683,
     "metadata": {},
     "output_type": "execute_result"
    }
   ],
   "source": [
    "## map()- applies a function to all items in a list\n",
    "\n",
    "\n",
    "numbers=[1,2,3,4,5,6]\n",
    "def square(number):\n",
    " return number**2\n",
    "square(2)"
   ]
  },
  {
   "cell_type": "code",
   "execution_count": 685,
   "id": "674a5ddc-38c5-4186-ae27-a1e557f4028a",
   "metadata": {},
   "outputs": [
    {
     "data": {
      "text/plain": [
       "[1, 4, 9, 16, 25, 36]"
      ]
     },
     "execution_count": 685,
     "metadata": {},
     "output_type": "execute_result"
    }
   ],
   "source": [
    "list(map(lambda x:x**2,numbers))"
   ]
  },
  {
   "cell_type": "markdown",
   "id": "3218bc0c-8d2c-4a44-bd76-f1cbf5918550",
   "metadata": {},
   "source": [
    "# The Map() Function in python"
   ]
  },
  {
   "cell_type": "code",
   "execution_count": 688,
   "id": "e807a924-5d5a-49b4-8379-b5df7cfbae03",
   "metadata": {},
   "outputs": [
    {
     "data": {
      "text/plain": [
       "100"
      ]
     },
     "execution_count": 688,
     "metadata": {},
     "output_type": "execute_result"
    }
   ],
   "source": [
    "def square(x):\n",
    " return x*x\n",
    "square(10)"
   ]
  },
  {
   "cell_type": "code",
   "execution_count": 690,
   "id": "7197e93c-07c7-42f5-89c7-40df2d5816e5",
   "metadata": {},
   "outputs": [
    {
     "data": {
      "text/plain": [
       "[1, 4, 9, 16, 25, 36, 49, 64]"
      ]
     },
     "execution_count": 690,
     "metadata": {},
     "output_type": "execute_result"
    }
   ],
   "source": [
    "numbers=[1,2,3,4,5,6,7,8]\n",
    "list(map(square,numbers))"
   ]
  },
  {
   "cell_type": "code",
   "execution_count": 692,
   "id": "5428ac06-5c5d-439f-94c0-cd2793b74042",
   "metadata": {},
   "outputs": [
    {
     "data": {
      "text/plain": [
       "[1, 4, 9, 16, 25, 36, 49, 64]"
      ]
     },
     "execution_count": 692,
     "metadata": {},
     "output_type": "execute_result"
    }
   ],
   "source": [
    "## Lambda function with map\n",
    "\n",
    "numbers=[1,2,3,4,5,6,7,8]\n",
    "list(map(lambda x:x*x,numbers))"
   ]
  },
  {
   "cell_type": "code",
   "execution_count": 694,
   "id": "ece3846b-cbe2-4f08-8353-3a99805df19a",
   "metadata": {},
   "outputs": [
    {
     "name": "stdout",
     "output_type": "stream",
     "text": [
      "[5, 7, 9]\n"
     ]
    }
   ],
   "source": [
    "## MAp multiple iterables\n",
    "\n",
    "numbers1=[1,2,3]\n",
    "numbers2=[4,5,6]\n",
    "added_numbers=list(map(lambda x,y:x+y,numbers1,numbers2))\n",
    "print(added_numbers)"
   ]
  },
  {
   "cell_type": "code",
   "execution_count": 696,
   "id": "d7aa428a-f78d-41cf-973a-a2d6a30c022b",
   "metadata": {},
   "outputs": [
    {
     "name": "stdout",
     "output_type": "stream",
     "text": [
      "[1, 2, 3, 4, 5]\n"
     ]
    }
   ],
   "source": [
    "# map() to convert a list of strings to integers\n",
    "\n",
    "# Use map to convert strings to integers\n",
    "\n",
    "str_numbers = ['1', '2', '3', '4', '5']\n",
    "int_numbers = list(map(int, str_numbers))\n",
    "print(int_numbers) \n"
   ]
  },
  {
   "cell_type": "code",
   "execution_count": null,
   "id": "c87c4992-0ad3-43f8-9299-c106c72e3378",
   "metadata": {},
   "outputs": [],
   "source": []
  },
  {
   "cell_type": "code",
   "execution_count": 714,
   "id": "531a32fe-a932-4e66-b393-3ef6d88f4352",
   "metadata": {},
   "outputs": [
    {
     "data": {
      "text/plain": [
       "['Deepak', 'Jack']"
      ]
     },
     "execution_count": 714,
     "metadata": {},
     "output_type": "execute_result"
    }
   ],
   "source": [
    "def get_name(person):\n",
    " return person['name']\n",
    "people=[\n",
    " {'name':'Deepak','age':32},\n",
    " {'name':'Jack','age':33}\n",
    "    ]\n",
    "list(map(get_name,people))\n"
   ]
  },
  {
   "cell_type": "markdown",
   "id": "a1bc1cdc-9845-469d-bc61-e1b6ecbf4b92",
   "metadata": {},
   "source": [
    "# The Filter() Function in python"
   ]
  },
  {
   "cell_type": "code",
   "execution_count": 722,
   "id": "a8ae5d9b-cfda-48c6-97b9-236194fd0478",
   "metadata": {},
   "outputs": [],
   "source": [
    "def even(num):\n",
    " if num%2==0:\n",
    "   return True"
   ]
  },
  {
   "cell_type": "code",
   "execution_count": 724,
   "id": "dc5c0634-c75c-41f1-9441-85663dc135ad",
   "metadata": {},
   "outputs": [
    {
     "data": {
      "text/plain": [
       "True"
      ]
     },
     "execution_count": 724,
     "metadata": {},
     "output_type": "execute_result"
    }
   ],
   "source": [
    "even(24)"
   ]
  },
  {
   "cell_type": "code",
   "execution_count": 726,
   "id": "4ef7c824-20b1-4288-9d93-460b8bdbd49a",
   "metadata": {},
   "outputs": [
    {
     "data": {
      "text/plain": [
       "[2, 4, 6, 8, 10, 12]"
      ]
     },
     "execution_count": 726,
     "metadata": {},
     "output_type": "execute_result"
    }
   ],
   "source": [
    "lst=[1,2,3,4,5,6,7,8,9,10,11,12]\n",
    "list(filter(even,lst))"
   ]
  },
  {
   "cell_type": "code",
   "execution_count": 728,
   "id": "a8ef1ab8-f11b-4248-8a43-ff2712348e83",
   "metadata": {},
   "outputs": [
    {
     "name": "stdout",
     "output_type": "stream",
     "text": [
      "[6, 7, 8, 9]\n"
     ]
    }
   ],
   "source": [
    "## filter with a Lambda Function\n",
    "\n",
    "numbers=[1,2,3,4,5,6,7,8,9]\n",
    "greater_than_five=list(filter(lambda x:x>5,numbers))\n",
    "print(greater_than_five)"
   ]
  },
  {
   "cell_type": "code",
   "execution_count": 730,
   "id": "7cf91c00-bf5c-4f28-b78c-e90c6da7d046",
   "metadata": {},
   "outputs": [
    {
     "name": "stdout",
     "output_type": "stream",
     "text": [
      "[6, 8]\n"
     ]
    }
   ],
   "source": [
    "# Filter with a lambda function and multiple conditions\n",
    "\n",
    "numbers=[1,2,3,4,5,6,7,8,9]\n",
    "even_and_greater_than_five=list(filter(lambda x:x>5 and x%2==0,numbers))\n",
    "print(even_and_greater_than_five)"
   ]
  },
  {
   "cell_type": "code",
   "execution_count": 740,
   "id": "c5b962ce-f66e-45b3-a4a5-9c5f4cd04555",
   "metadata": {},
   "outputs": [
    {
     "data": {
      "text/plain": [
       "[{'name': 'Sunny', 'age': 32}, {'name': 'Jack', 'age': 33}]"
      ]
     },
     "execution_count": 740,
     "metadata": {},
     "output_type": "execute_result"
    }
   ],
   "source": [
    "# Filter() to check if the age is greate than 25 in dictionaries\n",
    "people=[\n",
    " {'name':'Sunny','age':32},\n",
    " {'name':'Jack','age':33},\n",
    " {'name':'John','age':25}\n",
    "]\n",
    "def age_greater_than_25(person):\n",
    "    return person['age']>25\n",
    "list(filter(age_greater_than_25,people))"
   ]
  },
  {
   "cell_type": "code",
   "execution_count": null,
   "id": "1f146ef4-ce67-48cf-b3f3-2335d5ecfdec",
   "metadata": {},
   "outputs": [],
   "source": []
  }
 ],
 "metadata": {
  "kernelspec": {
   "display_name": "Python [conda env:base] *",
   "language": "python",
   "name": "conda-base-py"
  },
  "language_info": {
   "codemirror_mode": {
    "name": "ipython",
    "version": 3
   },
   "file_extension": ".py",
   "mimetype": "text/x-python",
   "name": "python",
   "nbconvert_exporter": "python",
   "pygments_lexer": "ipython3",
   "version": "3.12.7"
  }
 },
 "nbformat": 4,
 "nbformat_minor": 5
}
